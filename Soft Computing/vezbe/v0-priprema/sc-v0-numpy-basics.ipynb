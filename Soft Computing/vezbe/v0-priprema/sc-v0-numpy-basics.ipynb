{
 "cells": [
  {
   "cell_type": "code",
   "execution_count": 15,
   "id": "89b918e8",
   "metadata": {},
   "outputs": [
    {
     "name": "stdout",
     "output_type": "stream",
     "text": [
      "Defaulting to user installation because normal site-packages is not writeable\n",
      "Collecting absl-py==1.4.0 (from -r requirements_win.txt (line 1))\n",
      "  Using cached absl_py-1.4.0-py3-none-any.whl (126 kB)\n",
      "Collecting anyio==4.0.0 (from -r requirements_win.txt (line 2))\n",
      "  Obtaining dependency information for anyio==4.0.0 from https://files.pythonhosted.org/packages/36/55/ad4de788d84a630656ece71059665e01ca793c04294c463fd84132f40fe6/anyio-4.0.0-py3-none-any.whl.metadata\n",
      "  Using cached anyio-4.0.0-py3-none-any.whl.metadata (4.5 kB)\n",
      "Collecting argon2-cffi==23.1.0 (from -r requirements_win.txt (line 3))\n",
      "  Obtaining dependency information for argon2-cffi==23.1.0 from https://files.pythonhosted.org/packages/a4/6a/e8a041599e78b6b3752da48000b14c8d1e8a04ded09c88c714ba047f34f5/argon2_cffi-23.1.0-py3-none-any.whl.metadata\n",
      "  Using cached argon2_cffi-23.1.0-py3-none-any.whl.metadata (5.2 kB)\n",
      "Collecting argon2-cffi-bindings==21.2.0 (from -r requirements_win.txt (line 4))\n",
      "  Using cached argon2_cffi_bindings-21.2.0-cp36-abi3-win_amd64.whl (30 kB)\n",
      "Collecting arrow==1.2.3 (from -r requirements_win.txt (line 5))\n",
      "  Using cached arrow-1.2.3-py3-none-any.whl (66 kB)\n",
      "Requirement already satisfied: asttokens==2.4.0 in c:\\users\\neboj\\appdata\\roaming\\python\\python311\\site-packages (from -r requirements_win.txt (line 6)) (2.4.0)\n",
      "Collecting astunparse==1.6.3 (from -r requirements_win.txt (line 7))\n",
      "  Using cached astunparse-1.6.3-py2.py3-none-any.whl (12 kB)\n",
      "Collecting async-lru==2.0.4 (from -r requirements_win.txt (line 8))\n",
      "  Obtaining dependency information for async-lru==2.0.4 from https://files.pythonhosted.org/packages/fa/9f/3c3503693386c4b0f245eaf5ca6198e3b28879ca0a40bde6b0e319793453/async_lru-2.0.4-py3-none-any.whl.metadata\n",
      "  Using cached async_lru-2.0.4-py3-none-any.whl.metadata (4.5 kB)\n",
      "Collecting attrs==23.1.0 (from -r requirements_win.txt (line 9))\n",
      "  Using cached attrs-23.1.0-py3-none-any.whl (61 kB)\n",
      "Collecting audioread==3.0.0 (from -r requirements_win.txt (line 10))\n",
      "  Using cached audioread-3.0.0-py3-none-any.whl\n",
      "Collecting Babel==2.12.1 (from -r requirements_win.txt (line 11))\n",
      "  Using cached Babel-2.12.1-py3-none-any.whl (10.1 MB)\n",
      "Requirement already satisfied: backcall==0.2.0 in c:\\users\\neboj\\appdata\\roaming\\python\\python311\\site-packages (from -r requirements_win.txt (line 12)) (0.2.0)\n",
      "Collecting beautifulsoup4==4.12.2 (from -r requirements_win.txt (line 13))\n",
      "  Using cached beautifulsoup4-4.12.2-py3-none-any.whl (142 kB)\n",
      "Collecting bleach==6.0.0 (from -r requirements_win.txt (line 14))\n",
      "  Using cached bleach-6.0.0-py3-none-any.whl (162 kB)\n",
      "Collecting cachetools==5.3.1 (from -r requirements_win.txt (line 15))\n",
      "  Obtaining dependency information for cachetools==5.3.1 from https://files.pythonhosted.org/packages/a9/c9/c8a7710f2cedcb1db9224fdd4d8307c9e48cbddc46c18b515fefc0f1abbe/cachetools-5.3.1-py3-none-any.whl.metadata\n",
      "  Using cached cachetools-5.3.1-py3-none-any.whl.metadata (5.2 kB)\n",
      "Collecting certifi==2023.7.22 (from -r requirements_win.txt (line 16))\n",
      "  Obtaining dependency information for certifi==2023.7.22 from https://files.pythonhosted.org/packages/4c/dd/2234eab22353ffc7d94e8d13177aaa050113286e93e7b40eae01fbf7c3d9/certifi-2023.7.22-py3-none-any.whl.metadata\n",
      "  Using cached certifi-2023.7.22-py3-none-any.whl.metadata (2.2 kB)\n",
      "Collecting cffi==1.15.1 (from -r requirements_win.txt (line 17))\n",
      "  Using cached cffi-1.15.1-cp311-cp311-win_amd64.whl (179 kB)\n",
      "Collecting charset-normalizer==3.2.0 (from -r requirements_win.txt (line 18))\n",
      "  Obtaining dependency information for charset-normalizer==3.2.0 from https://files.pythonhosted.org/packages/91/6e/db0e545302bf93b6dbbdc496dd192c7f8e8c3bb1584acba069256d8b51d4/charset_normalizer-3.2.0-cp311-cp311-win_amd64.whl.metadata\n",
      "  Using cached charset_normalizer-3.2.0-cp311-cp311-win_amd64.whl.metadata (31 kB)\n",
      "Requirement already satisfied: colorama==0.4.6 in c:\\users\\neboj\\appdata\\roaming\\python\\python311\\site-packages (from -r requirements_win.txt (line 19)) (0.4.6)\n",
      "Requirement already satisfied: comm==0.1.4 in c:\\users\\neboj\\appdata\\roaming\\python\\python311\\site-packages (from -r requirements_win.txt (line 20)) (0.1.4)\n",
      "Collecting contourpy==1.1.1 (from -r requirements_win.txt (line 21))\n",
      "  Obtaining dependency information for contourpy==1.1.1 from https://files.pythonhosted.org/packages/e5/76/94bc17eb868f8c7397f8fdfdeae7661c1b9a35f3a7219da308596e8c252a/contourpy-1.1.1-cp311-cp311-win_amd64.whl.metadata\n",
      "  Using cached contourpy-1.1.1-cp311-cp311-win_amd64.whl.metadata (5.9 kB)\n",
      "Collecting cycler==0.11.0 (from -r requirements_win.txt (line 22))\n",
      "  Using cached cycler-0.11.0-py3-none-any.whl (6.4 kB)\n",
      "Requirement already satisfied: debugpy==1.8.0 in c:\\users\\neboj\\appdata\\roaming\\python\\python311\\site-packages (from -r requirements_win.txt (line 23)) (1.8.0)\n",
      "Requirement already satisfied: decorator==5.1.1 in c:\\users\\neboj\\appdata\\roaming\\python\\python311\\site-packages (from -r requirements_win.txt (line 24)) (5.1.1)\n",
      "Collecting defusedxml==0.7.1 (from -r requirements_win.txt (line 25))\n",
      "  Using cached defusedxml-0.7.1-py2.py3-none-any.whl (25 kB)\n",
      "Collecting exceptiongroup==1.1.3 (from -r requirements_win.txt (line 26))\n",
      "  Obtaining dependency information for exceptiongroup==1.1.3 from https://files.pythonhosted.org/packages/ad/83/b71e58666f156a39fb29417e4c8ca4bc7400c0dd4ed9e8842ab54dc8c344/exceptiongroup-1.1.3-py3-none-any.whl.metadata\n",
      "  Using cached exceptiongroup-1.1.3-py3-none-any.whl.metadata (6.1 kB)\n",
      "Collecting executing==1.2.0 (from -r requirements_win.txt (line 27))\n",
      "  Using cached executing-1.2.0-py2.py3-none-any.whl (24 kB)\n",
      "Collecting fastjsonschema==2.18.0 (from -r requirements_win.txt (line 28))\n",
      "  Obtaining dependency information for fastjsonschema==2.18.0 from https://files.pythonhosted.org/packages/9d/93/a3ca3cdeb84065d7d8f8df4cb09ab44405f109183c1d2b915ec17574e6b1/fastjsonschema-2.18.0-py3-none-any.whl.metadata\n",
      "  Using cached fastjsonschema-2.18.0-py3-none-any.whl.metadata (2.0 kB)\n",
      "Collecting flatbuffers==23.5.26 (from -r requirements_win.txt (line 29))\n",
      "  Obtaining dependency information for flatbuffers==23.5.26 from https://files.pythonhosted.org/packages/6f/12/d5c79ee252793ffe845d58a913197bfa02ae9a0b5c9bc3dc4b58d477b9e7/flatbuffers-23.5.26-py2.py3-none-any.whl.metadata\n",
      "  Using cached flatbuffers-23.5.26-py2.py3-none-any.whl.metadata (850 bytes)\n",
      "Collecting fonttools==4.42.1 (from -r requirements_win.txt (line 30))\n",
      "  Obtaining dependency information for fonttools==4.42.1 from https://files.pythonhosted.org/packages/95/b6/9a5133deb5838c4dbe3ea27e8dba123622aa5112d43a079e9587636b4faf/fonttools-4.42.1-cp311-cp311-win_amd64.whl.metadata\n",
      "  Using cached fonttools-4.42.1-cp311-cp311-win_amd64.whl.metadata (154 kB)\n",
      "Collecting fqdn==1.5.1 (from -r requirements_win.txt (line 31))\n",
      "  Using cached fqdn-1.5.1-py3-none-any.whl (9.1 kB)\n",
      "Collecting gast==0.4.0 (from -r requirements_win.txt (line 32))\n",
      "  Using cached gast-0.4.0-py3-none-any.whl (9.8 kB)\n",
      "Collecting google-auth==2.23.0 (from -r requirements_win.txt (line 33))\n",
      "  Obtaining dependency information for google-auth==2.23.0 from https://files.pythonhosted.org/packages/9d/44/5a992cb9d7bf8aaae73bc5adaf721ad08731c9d00c1c17999a8691404b0c/google_auth-2.23.0-py2.py3-none-any.whl.metadata\n",
      "  Using cached google_auth-2.23.0-py2.py3-none-any.whl.metadata (4.2 kB)\n",
      "Collecting google-auth-oauthlib==1.0.0 (from -r requirements_win.txt (line 34))\n",
      "  Using cached google_auth_oauthlib-1.0.0-py2.py3-none-any.whl (18 kB)\n",
      "Collecting google-pasta==0.2.0 (from -r requirements_win.txt (line 35))\n",
      "  Using cached google_pasta-0.2.0-py3-none-any.whl (57 kB)\n",
      "Collecting grpcio==1.58.0 (from -r requirements_win.txt (line 36))\n",
      "  Obtaining dependency information for grpcio==1.58.0 from https://files.pythonhosted.org/packages/2c/98/6f45e1e42993c6b9e607b10a9a103e98e2e73d6fd430d4004adff216a98e/grpcio-1.58.0-cp311-cp311-win_amd64.whl.metadata\n",
      "  Using cached grpcio-1.58.0-cp311-cp311-win_amd64.whl.metadata (4.1 kB)\n",
      "Collecting h5py==3.9.0 (from -r requirements_win.txt (line 37))\n",
      "  Obtaining dependency information for h5py==3.9.0 from https://files.pythonhosted.org/packages/d1/93/0f4cf5058095d749d464e4f770d2bf339930e5f3374331f0d2fa6ddfbf28/h5py-3.9.0-cp311-cp311-win_amd64.whl.metadata\n",
      "  Using cached h5py-3.9.0-cp311-cp311-win_amd64.whl.metadata (2.5 kB)\n",
      "Collecting idna==3.4 (from -r requirements_win.txt (line 38))\n",
      "  Using cached idna-3.4-py3-none-any.whl (61 kB)\n",
      "Requirement already satisfied: ipykernel==6.25.2 in c:\\users\\neboj\\appdata\\roaming\\python\\python311\\site-packages (from -r requirements_win.txt (line 39)) (6.25.2)\n",
      "Collecting ipython==8.15.0 (from -r requirements_win.txt (line 40))\n",
      "  Obtaining dependency information for ipython==8.15.0 from https://files.pythonhosted.org/packages/7f/d0/c3eb7b17b013da59925aed7b2e7c55f8f1c9209249316812fe8cb758b337/ipython-8.15.0-py3-none-any.whl.metadata\n",
      "  Using cached ipython-8.15.0-py3-none-any.whl.metadata (5.9 kB)\n",
      "Collecting isoduration==20.11.0 (from -r requirements_win.txt (line 41))\n",
      "  Using cached isoduration-20.11.0-py3-none-any.whl (11 kB)\n",
      "Collecting jedi==0.19.0 (from -r requirements_win.txt (line 42))\n",
      "  Obtaining dependency information for jedi==0.19.0 from https://files.pythonhosted.org/packages/8e/46/7e3ae3aa2dcfcffc5138c6cef5448523218658411c84a2000bf75c8d3ec1/jedi-0.19.0-py2.py3-none-any.whl.metadata\n",
      "  Using cached jedi-0.19.0-py2.py3-none-any.whl.metadata (22 kB)\n",
      "Collecting Jinja2==3.1.2 (from -r requirements_win.txt (line 43))\n",
      "  Using cached Jinja2-3.1.2-py3-none-any.whl (133 kB)\n",
      "Collecting joblib==1.3.2 (from -r requirements_win.txt (line 44))\n",
      "  Obtaining dependency information for joblib==1.3.2 from https://files.pythonhosted.org/packages/10/40/d551139c85db202f1f384ba8bcf96aca2f329440a844f924c8a0040b6d02/joblib-1.3.2-py3-none-any.whl.metadata\n",
      "  Using cached joblib-1.3.2-py3-none-any.whl.metadata (5.4 kB)\n",
      "Collecting json5==0.9.14 (from -r requirements_win.txt (line 45))\n",
      "  Obtaining dependency information for json5==0.9.14 from https://files.pythonhosted.org/packages/70/ba/fa37123a86ae8287d6678535a944f9c3377d8165e536310ed6f6cb0f0c0e/json5-0.9.14-py2.py3-none-any.whl.metadata\n",
      "  Using cached json5-0.9.14-py2.py3-none-any.whl.metadata (10 kB)\n",
      "Collecting jsonpointer==2.4 (from -r requirements_win.txt (line 46))\n",
      "  Obtaining dependency information for jsonpointer==2.4 from https://files.pythonhosted.org/packages/12/f6/0232cc0c617e195f06f810534d00b74d2f348fe71b2118009ad8ad31f878/jsonpointer-2.4-py2.py3-none-any.whl.metadata\n",
      "  Using cached jsonpointer-2.4-py2.py3-none-any.whl.metadata (2.5 kB)\n",
      "Collecting jsonschema==4.19.0 (from -r requirements_win.txt (line 47))\n",
      "  Obtaining dependency information for jsonschema==4.19.0 from https://files.pythonhosted.org/packages/2b/ff/af59fd34bc4d7ac3e6e0cd1f3c10317d329b6c1aee179e8b24ad9a79fbac/jsonschema-4.19.0-py3-none-any.whl.metadata\n",
      "  Using cached jsonschema-4.19.0-py3-none-any.whl.metadata (8.2 kB)\n",
      "Collecting jsonschema-specifications==2023.7.1 (from -r requirements_win.txt (line 48))\n",
      "  Obtaining dependency information for jsonschema-specifications==2023.7.1 from https://files.pythonhosted.org/packages/1c/24/83349ac2189cc2435e84da3f69ba3c97314d3c0622628e55171c6798ed80/jsonschema_specifications-2023.7.1-py3-none-any.whl.metadata\n",
      "  Using cached jsonschema_specifications-2023.7.1-py3-none-any.whl.metadata (2.8 kB)\n",
      "Collecting jupyter-events==0.7.0 (from -r requirements_win.txt (line 49))\n",
      "  Obtaining dependency information for jupyter-events==0.7.0 from https://files.pythonhosted.org/packages/15/0d/3c67f6c432d8085a3cee250e1e235f27b764be90cc2d16fdcc0b1cee9572/jupyter_events-0.7.0-py3-none-any.whl.metadata\n",
      "  Using cached jupyter_events-0.7.0-py3-none-any.whl.metadata (5.5 kB)\n",
      "Collecting jupyter-lsp==2.2.0 (from -r requirements_win.txt (line 50))\n",
      "  Obtaining dependency information for jupyter-lsp==2.2.0 from https://files.pythonhosted.org/packages/8f/b6/a1571e48550855a79898f851f57e5858b00eb36b09ea3b1a8bb65c53a290/jupyter_lsp-2.2.0-py3-none-any.whl.metadata\n",
      "  Using cached jupyter_lsp-2.2.0-py3-none-any.whl.metadata (1.8 kB)\n",
      "Collecting jupyter_client==8.3.1 (from -r requirements_win.txt (line 51))\n",
      "  Obtaining dependency information for jupyter_client==8.3.1 from https://files.pythonhosted.org/packages/73/d4/3c13d6a300be9e894561aea0b81e7aed46e8f98029b7d9369d90b1fc7ac5/jupyter_client-8.3.1-py3-none-any.whl.metadata\n",
      "  Using cached jupyter_client-8.3.1-py3-none-any.whl.metadata (8.5 kB)\n",
      "Collecting jupyter_core==5.3.1 (from -r requirements_win.txt (line 52))\n",
      "  Obtaining dependency information for jupyter_core==5.3.1 from https://files.pythonhosted.org/packages/8c/e0/3f9061c5e99a03612510f892647b15a91f910c5275b7b77c6c72edae1494/jupyter_core-5.3.1-py3-none-any.whl.metadata\n",
      "  Using cached jupyter_core-5.3.1-py3-none-any.whl.metadata (3.4 kB)\n",
      "Collecting jupyter_server==2.7.3 (from -r requirements_win.txt (line 53))\n",
      "  Obtaining dependency information for jupyter_server==2.7.3 from https://files.pythonhosted.org/packages/96/a2/b432812537beaf22a9dbc0d50cb62471e57ef90df42738675760fb3dce98/jupyter_server-2.7.3-py3-none-any.whl.metadata\n",
      "  Using cached jupyter_server-2.7.3-py3-none-any.whl.metadata (8.6 kB)\n",
      "Collecting jupyter_server_terminals==0.4.4 (from -r requirements_win.txt (line 54))\n",
      "  Using cached jupyter_server_terminals-0.4.4-py3-none-any.whl (13 kB)\n",
      "Collecting jupyterlab==4.0.6 (from -r requirements_win.txt (line 55))\n",
      "  Obtaining dependency information for jupyterlab==4.0.6 from https://files.pythonhosted.org/packages/3b/43/2368d8ffee6e33f282f548d42fa222bd385cc9f66545b260e7d08e90046b/jupyterlab-4.0.6-py3-none-any.whl.metadata\n",
      "  Using cached jupyterlab-4.0.6-py3-none-any.whl.metadata (15 kB)\n",
      "Collecting jupyterlab-pygments==0.2.2 (from -r requirements_win.txt (line 56))\n",
      "  Using cached jupyterlab_pygments-0.2.2-py2.py3-none-any.whl (21 kB)\n",
      "Collecting jupyterlab_server==2.25.0 (from -r requirements_win.txt (line 57))\n",
      "  Obtaining dependency information for jupyterlab_server==2.25.0 from https://files.pythonhosted.org/packages/96/cd/cdabe44549d60e0967904f0bdd9e3756b521112317612a3997eb2fda9181/jupyterlab_server-2.25.0-py3-none-any.whl.metadata\n",
      "  Using cached jupyterlab_server-2.25.0-py3-none-any.whl.metadata (5.9 kB)\n",
      "Collecting keras==2.13.1 (from -r requirements_win.txt (line 58))\n",
      "  Obtaining dependency information for keras==2.13.1 from https://files.pythonhosted.org/packages/2e/f3/19da7511b45e80216cbbd9467137b2d28919c58ba1ccb971435cb631e470/keras-2.13.1-py3-none-any.whl.metadata\n",
      "  Using cached keras-2.13.1-py3-none-any.whl.metadata (2.4 kB)\n",
      "Collecting kiwisolver==1.4.5 (from -r requirements_win.txt (line 59))\n",
      "  Obtaining dependency information for kiwisolver==1.4.5 from https://files.pythonhosted.org/packages/1e/37/d3c2d4ba2719059a0f12730947bbe1ad5ee8bff89e8c35319dcb2c9ddb4c/kiwisolver-1.4.5-cp311-cp311-win_amd64.whl.metadata\n",
      "  Using cached kiwisolver-1.4.5-cp311-cp311-win_amd64.whl.metadata (6.5 kB)\n",
      "Collecting lazy_loader==0.3 (from -r requirements_win.txt (line 60))\n",
      "  Obtaining dependency information for lazy_loader==0.3 from https://files.pythonhosted.org/packages/a1/c3/65b3814e155836acacf720e5be3b5757130346670ac454fee29d3eda1381/lazy_loader-0.3-py3-none-any.whl.metadata\n",
      "  Using cached lazy_loader-0.3-py3-none-any.whl.metadata (4.3 kB)\n",
      "Collecting libclang==16.0.6 (from -r requirements_win.txt (line 61))\n",
      "  Obtaining dependency information for libclang==16.0.6 from https://files.pythonhosted.org/packages/02/8c/dc970bc00867fe290e8c8a7befa1635af716a9ebdfe3fb9dce0ca4b522ce/libclang-16.0.6-py2.py3-none-win_amd64.whl.metadata\n",
      "  Using cached libclang-16.0.6-py2.py3-none-win_amd64.whl.metadata (5.3 kB)\n",
      "Collecting librosa==0.10.1 (from -r requirements_win.txt (line 62))\n",
      "  Obtaining dependency information for librosa==0.10.1 from https://files.pythonhosted.org/packages/e2/a2/4f639c1168d7aada749a896afb4892a831e2041bebdcf636aebfe9e86556/librosa-0.10.1-py3-none-any.whl.metadata\n",
      "  Using cached librosa-0.10.1-py3-none-any.whl.metadata (8.3 kB)\n",
      "Collecting llvmlite==0.40.1 (from -r requirements_win.txt (line 63))\n",
      "  Obtaining dependency information for llvmlite==0.40.1 from https://files.pythonhosted.org/packages/09/7a/3e0bec597ca9e3382ba87c139813ea0b05068d6d5358e05f4557a8c24d63/llvmlite-0.40.1-cp311-cp311-win_amd64.whl.metadata\n",
      "  Using cached llvmlite-0.40.1-cp311-cp311-win_amd64.whl.metadata (4.8 kB)\n",
      "Collecting Markdown==3.4.4 (from -r requirements_win.txt (line 64))\n",
      "  Obtaining dependency information for Markdown==3.4.4 from https://files.pythonhosted.org/packages/1a/b5/228c1cdcfe138f1a8e01ab1b54284c8b83735476cb22b6ba251656ed13ad/Markdown-3.4.4-py3-none-any.whl.metadata\n",
      "  Using cached Markdown-3.4.4-py3-none-any.whl.metadata (6.9 kB)\n",
      "Collecting MarkupSafe==2.1.3 (from -r requirements_win.txt (line 65))\n",
      "  Obtaining dependency information for MarkupSafe==2.1.3 from https://files.pythonhosted.org/packages/be/bb/08b85bc194034efbf572e70c3951549c8eca0ada25363afc154386b5390a/MarkupSafe-2.1.3-cp311-cp311-win_amd64.whl.metadata\n",
      "  Using cached MarkupSafe-2.1.3-cp311-cp311-win_amd64.whl.metadata (3.1 kB)\n",
      "Collecting matplotlib==3.8.0 (from -r requirements_win.txt (line 66))\n",
      "  Obtaining dependency information for matplotlib==3.8.0 from https://files.pythonhosted.org/packages/40/d9/c1784db9db0d484c8e5deeafbaac0d6ed66e165c6eb4a74fb43a5fa947d9/matplotlib-3.8.0-cp311-cp311-win_amd64.whl.metadata\n",
      "  Using cached matplotlib-3.8.0-cp311-cp311-win_amd64.whl.metadata (5.9 kB)\n",
      "Requirement already satisfied: matplotlib-inline==0.1.6 in c:\\users\\neboj\\appdata\\roaming\\python\\python311\\site-packages (from -r requirements_win.txt (line 67)) (0.1.6)\n",
      "Collecting mistune==3.0.1 (from -r requirements_win.txt (line 68))\n",
      "  Obtaining dependency information for mistune==3.0.1 from https://files.pythonhosted.org/packages/cc/c0/ac9587149e37cde62ae338e9db8241ae2fdc79a84bde8c8ba7caea2c22d8/mistune-3.0.1-py3-none-any.whl.metadata\n",
      "  Using cached mistune-3.0.1-py3-none-any.whl.metadata (1.7 kB)\n",
      "Collecting msgpack==1.0.5 (from -r requirements_win.txt (line 69))\n",
      "  Using cached msgpack-1.0.5-cp311-cp311-win_amd64.whl (60 kB)\n",
      "Collecting nbclient==0.8.0 (from -r requirements_win.txt (line 70))\n",
      "  Obtaining dependency information for nbclient==0.8.0 from https://files.pythonhosted.org/packages/ac/5a/d670ca51e6c3d98574b9647599821590efcd811d71f58e9c89fc59a17685/nbclient-0.8.0-py3-none-any.whl.metadata\n",
      "  Using cached nbclient-0.8.0-py3-none-any.whl.metadata (7.8 kB)\n",
      "Collecting nbconvert==7.8.0 (from -r requirements_win.txt (line 71))\n",
      "  Obtaining dependency information for nbconvert==7.8.0 from https://files.pythonhosted.org/packages/a4/a6/072b6fd04616f1409f37ef5967ea5bbbeea1447d4494c2d98658a95fc985/nbconvert-7.8.0-py3-none-any.whl.metadata\n",
      "  Using cached nbconvert-7.8.0-py3-none-any.whl.metadata (8.0 kB)\n",
      "Collecting nbformat==5.9.2 (from -r requirements_win.txt (line 72))\n",
      "  Obtaining dependency information for nbformat==5.9.2 from https://files.pythonhosted.org/packages/f4/e7/ef30a90b70eba39e675689b9eaaa92530a71d7435ab8f9cae520814e0caf/nbformat-5.9.2-py3-none-any.whl.metadata\n",
      "  Using cached nbformat-5.9.2-py3-none-any.whl.metadata (3.4 kB)\n",
      "Requirement already satisfied: nest-asyncio==1.5.8 in c:\\users\\neboj\\appdata\\roaming\\python\\python311\\site-packages (from -r requirements_win.txt (line 73)) (1.5.8)\n",
      "Collecting notebook==7.0.3 (from -r requirements_win.txt (line 74))\n",
      "  Obtaining dependency information for notebook==7.0.3 from https://files.pythonhosted.org/packages/79/97/b803f9686fe25b40c8eca2d1ba440b2f878f23b87765d18fe93dd323f0b7/notebook-7.0.3-py3-none-any.whl.metadata\n",
      "  Using cached notebook-7.0.3-py3-none-any.whl.metadata (10 kB)\n",
      "Collecting notebook_shim==0.2.3 (from -r requirements_win.txt (line 75))\n",
      "  Using cached notebook_shim-0.2.3-py3-none-any.whl (13 kB)\n",
      "Collecting numba==0.57.1 (from -r requirements_win.txt (line 76))\n",
      "  Obtaining dependency information for numba==0.57.1 from https://files.pythonhosted.org/packages/40/db/3a08f2ec91e0d6b0c68d94a42e80af005a0378c83c63cbbc9ee63143f2ed/numba-0.57.1-cp311-cp311-win_amd64.whl.metadata\n",
      "  Using cached numba-0.57.1-cp311-cp311-win_amd64.whl.metadata (2.8 kB)\n",
      "Collecting numpy==1.24.3 (from -r requirements_win.txt (line 77))\n",
      "  Using cached numpy-1.24.3-cp311-cp311-win_amd64.whl (14.8 MB)\n",
      "Collecting oauthlib==3.2.2 (from -r requirements_win.txt (line 78))\n",
      "  Using cached oauthlib-3.2.2-py3-none-any.whl (151 kB)\n",
      "Collecting opencv-python==4.8.0.76 (from -r requirements_win.txt (line 79))\n",
      "  Obtaining dependency information for opencv-python==4.8.0.76 from https://files.pythonhosted.org/packages/fb/c4/f574ba6f04e6d7bf8c38d23e7a52389566dd7631fee0bcdd79ea07ef2dbf/opencv_python-4.8.0.76-cp37-abi3-win_amd64.whl.metadata\n",
      "  Using cached opencv_python-4.8.0.76-cp37-abi3-win_amd64.whl.metadata (20 kB)\n",
      "Collecting opt-einsum==3.3.0 (from -r requirements_win.txt (line 80))\n",
      "  Using cached opt_einsum-3.3.0-py3-none-any.whl (65 kB)\n",
      "Collecting overrides==7.4.0 (from -r requirements_win.txt (line 81))\n",
      "  Obtaining dependency information for overrides==7.4.0 from https://files.pythonhosted.org/packages/da/28/3fa6ef8297302fc7b3844980b6c5dbc71cdbd4b61e9b2591234214d5ab39/overrides-7.4.0-py3-none-any.whl.metadata\n",
      "  Using cached overrides-7.4.0-py3-none-any.whl.metadata (5.7 kB)\n",
      "Collecting packaging==23.1 (from -r requirements_win.txt (line 82))\n",
      "  Using cached packaging-23.1-py3-none-any.whl (48 kB)\n",
      "Collecting pandas==2.1.0 (from -r requirements_win.txt (line 83))\n",
      "  Obtaining dependency information for pandas==2.1.0 from https://files.pythonhosted.org/packages/b7/f8/32d6b5aa4c4bc045fa2c4c58f88c325facc54721956c6313f0afea8ea853/pandas-2.1.0-cp311-cp311-win_amd64.whl.metadata\n",
      "  Using cached pandas-2.1.0-cp311-cp311-win_amd64.whl.metadata (18 kB)\n",
      "Collecting pandocfilters==1.5.0 (from -r requirements_win.txt (line 84))\n",
      "  Using cached pandocfilters-1.5.0-py2.py3-none-any.whl (8.7 kB)\n",
      "Requirement already satisfied: parso==0.8.3 in c:\\users\\neboj\\appdata\\roaming\\python\\python311\\site-packages (from -r requirements_win.txt (line 85)) (0.8.3)\n",
      "Requirement already satisfied: pickleshare==0.7.5 in c:\\users\\neboj\\appdata\\roaming\\python\\python311\\site-packages (from -r requirements_win.txt (line 86)) (0.7.5)\n",
      "Collecting Pillow==10.0.1 (from -r requirements_win.txt (line 87))\n",
      "  Obtaining dependency information for Pillow==10.0.1 from https://files.pythonhosted.org/packages/54/9b/debe992677af84859ec1e38777b1d5c0671918188324153ecbc1f16f6cb6/Pillow-10.0.1-cp311-cp311-win_amd64.whl.metadata\n",
      "  Using cached Pillow-10.0.1-cp311-cp311-win_amd64.whl.metadata (9.6 kB)\n",
      "Collecting platformdirs==3.10.0 (from -r requirements_win.txt (line 88))\n",
      "  Obtaining dependency information for platformdirs==3.10.0 from https://files.pythonhosted.org/packages/14/51/fe5a0d6ea589f0d4a1b97824fb518962ad48b27cd346dcdfa2405187997a/platformdirs-3.10.0-py3-none-any.whl.metadata\n",
      "  Using cached platformdirs-3.10.0-py3-none-any.whl.metadata (11 kB)\n",
      "Collecting pooch==1.7.0 (from -r requirements_win.txt (line 89))\n",
      "  Using cached pooch-1.7.0-py3-none-any.whl (60 kB)\n",
      "Collecting prometheus-client==0.17.1 (from -r requirements_win.txt (line 90))\n",
      "  Obtaining dependency information for prometheus-client==0.17.1 from https://files.pythonhosted.org/packages/ad/b3/6e18c89bf6bd120590ea538a62cae16dc763ff2745b18377c4be5495c4aa/prometheus_client-0.17.1-py3-none-any.whl.metadata\n",
      "  Using cached prometheus_client-0.17.1-py3-none-any.whl.metadata (24 kB)\n",
      "Requirement already satisfied: prompt-toolkit==3.0.39 in c:\\users\\neboj\\appdata\\roaming\\python\\python311\\site-packages (from -r requirements_win.txt (line 91)) (3.0.39)\n",
      "Collecting protobuf==4.24.3 (from -r requirements_win.txt (line 92))\n",
      "  Obtaining dependency information for protobuf==4.24.3 from https://files.pythonhosted.org/packages/5e/46/5b9674a33cbf690ffdd79ab1863767a66461cd06ea7aeb9f90e4e50be7a5/protobuf-4.24.3-cp310-abi3-win_amd64.whl.metadata\n",
      "  Using cached protobuf-4.24.3-cp310-abi3-win_amd64.whl.metadata (540 bytes)\n",
      "Collecting psutil==5.9.5 (from -r requirements_win.txt (line 93))\n",
      "  Using cached psutil-5.9.5-cp36-abi3-win_amd64.whl (255 kB)\n",
      "Requirement already satisfied: pure-eval==0.2.2 in c:\\users\\neboj\\appdata\\roaming\\python\\python311\\site-packages (from -r requirements_win.txt (line 94)) (0.2.2)\n",
      "Collecting pyasn1==0.5.0 (from -r requirements_win.txt (line 95))\n",
      "  Using cached pyasn1-0.5.0-py2.py3-none-any.whl (83 kB)\n",
      "Collecting pyasn1-modules==0.3.0 (from -r requirements_win.txt (line 96))\n",
      "  Using cached pyasn1_modules-0.3.0-py2.py3-none-any.whl (181 kB)\n",
      "Collecting pycparser==2.21 (from -r requirements_win.txt (line 97))\n",
      "  Using cached pycparser-2.21-py2.py3-none-any.whl (118 kB)\n",
      "Requirement already satisfied: Pygments==2.16.1 in c:\\users\\neboj\\appdata\\roaming\\python\\python311\\site-packages (from -r requirements_win.txt (line 98)) (2.16.1)\n",
      "Collecting pyparsing==3.1.1 (from -r requirements_win.txt (line 99))\n",
      "  Obtaining dependency information for pyparsing==3.1.1 from https://files.pythonhosted.org/packages/39/92/8486ede85fcc088f1b3dba4ce92dd29d126fd96b0008ea213167940a2475/pyparsing-3.1.1-py3-none-any.whl.metadata\n",
      "  Using cached pyparsing-3.1.1-py3-none-any.whl.metadata (5.1 kB)\n",
      "Requirement already satisfied: python-dateutil==2.8.2 in c:\\users\\neboj\\appdata\\roaming\\python\\python311\\site-packages (from -r requirements_win.txt (line 100)) (2.8.2)\n",
      "Collecting python-json-logger==2.0.7 (from -r requirements_win.txt (line 101))\n",
      "  Using cached python_json_logger-2.0.7-py3-none-any.whl (8.1 kB)\n",
      "Collecting pytz==2023.3.post1 (from -r requirements_win.txt (line 102))\n",
      "  Obtaining dependency information for pytz==2023.3.post1 from https://files.pythonhosted.org/packages/32/4d/aaf7eff5deb402fd9a24a1449a8119f00d74ae9c2efa79f8ef9994261fc2/pytz-2023.3.post1-py2.py3-none-any.whl.metadata\n",
      "  Using cached pytz-2023.3.post1-py2.py3-none-any.whl.metadata (22 kB)\n",
      "Requirement already satisfied: pywin32==306 in c:\\users\\neboj\\appdata\\roaming\\python\\python311\\site-packages (from -r requirements_win.txt (line 103)) (306)\n",
      "Collecting pywinpty==2.0.11 (from -r requirements_win.txt (line 104))\n",
      "  Obtaining dependency information for pywinpty==2.0.11 from https://files.pythonhosted.org/packages/5b/b8/46e4a4ed16fbf496bdb912739450177b7cbb5fec4fda99385dae091bf0ec/pywinpty-2.0.11-cp311-none-win_amd64.whl.metadata\n",
      "  Using cached pywinpty-2.0.11-cp311-none-win_amd64.whl.metadata (5.2 kB)\n",
      "Collecting PyYAML==6.0.1 (from -r requirements_win.txt (line 105))\n",
      "  Obtaining dependency information for PyYAML==6.0.1 from https://files.pythonhosted.org/packages/b3/34/65bb4b2d7908044963ebf614fe0fdb080773fc7030d7e39c8d3eddcd4257/PyYAML-6.0.1-cp311-cp311-win_amd64.whl.metadata\n",
      "  Using cached PyYAML-6.0.1-cp311-cp311-win_amd64.whl.metadata (2.1 kB)\n",
      "Requirement already satisfied: pyzmq==25.1.1 in c:\\users\\neboj\\appdata\\roaming\\python\\python311\\site-packages (from -r requirements_win.txt (line 106)) (25.1.1)\n",
      "Collecting referencing==0.30.2 (from -r requirements_win.txt (line 107))\n",
      "  Obtaining dependency information for referencing==0.30.2 from https://files.pythonhosted.org/packages/be/8e/56d6f1e2d591f4d6cbcba446cac4a1b0dc4f584537e2071d9bcee8eeab6b/referencing-0.30.2-py3-none-any.whl.metadata\n",
      "  Using cached referencing-0.30.2-py3-none-any.whl.metadata (2.6 kB)\n",
      "Collecting requests==2.31.0 (from -r requirements_win.txt (line 108))\n",
      "  Obtaining dependency information for requests==2.31.0 from https://files.pythonhosted.org/packages/70/8e/0e2d847013cb52cd35b38c009bb167a1a26b2ce6cd6965bf26b47bc0bf44/requests-2.31.0-py3-none-any.whl.metadata\n",
      "  Using cached requests-2.31.0-py3-none-any.whl.metadata (4.6 kB)\n",
      "Collecting requests-oauthlib==1.3.1 (from -r requirements_win.txt (line 109))\n",
      "  Using cached requests_oauthlib-1.3.1-py2.py3-none-any.whl (23 kB)\n",
      "Collecting rfc3339-validator==0.1.4 (from -r requirements_win.txt (line 110))\n",
      "  Using cached rfc3339_validator-0.1.4-py2.py3-none-any.whl (3.5 kB)\n",
      "Collecting rfc3986-validator==0.1.1 (from -r requirements_win.txt (line 111))\n",
      "  Using cached rfc3986_validator-0.1.1-py2.py3-none-any.whl (4.2 kB)\n",
      "Collecting rpds-py==0.10.3 (from -r requirements_win.txt (line 112))\n",
      "  Obtaining dependency information for rpds-py==0.10.3 from https://files.pythonhosted.org/packages/38/02/66194e83ff01cdd93ac9dfab264d35e8b1dfbb535b6992a3c82fb93c4c1f/rpds_py-0.10.3-cp311-none-win_amd64.whl.metadata\n",
      "  Using cached rpds_py-0.10.3-cp311-none-win_amd64.whl.metadata (3.8 kB)\n",
      "Collecting rsa==4.9 (from -r requirements_win.txt (line 113))\n",
      "  Using cached rsa-4.9-py3-none-any.whl (34 kB)\n",
      "Collecting scikit-learn==1.3.0 (from -r requirements_win.txt (line 114))\n",
      "  Obtaining dependency information for scikit-learn==1.3.0 from https://files.pythonhosted.org/packages/77/85/bff3a1e818ec6aa3dd466ff4f4b0a727db9fdb41f2e849747ad902ddbe95/scikit_learn-1.3.0-cp311-cp311-win_amd64.whl.metadata\n",
      "  Using cached scikit_learn-1.3.0-cp311-cp311-win_amd64.whl.metadata (11 kB)\n",
      "Collecting scipy==1.11.2 (from -r requirements_win.txt (line 115))\n",
      "  Obtaining dependency information for scipy==1.11.2 from https://files.pythonhosted.org/packages/06/15/e73734f9170b66c6a84a0bd7e03586e87e77404e2eb8e34749fc49fa43f7/scipy-1.11.2-cp311-cp311-win_amd64.whl.metadata\n",
      "  Using cached scipy-1.11.2-cp311-cp311-win_amd64.whl.metadata (59 kB)\n",
      "Collecting Send2Trash==1.8.2 (from -r requirements_win.txt (line 116))\n",
      "  Using cached Send2Trash-1.8.2-py3-none-any.whl (18 kB)\n",
      "Requirement already satisfied: six==1.16.0 in c:\\users\\neboj\\appdata\\roaming\\python\\python311\\site-packages (from -r requirements_win.txt (line 117)) (1.16.0)\n",
      "Collecting sniffio==1.3.0 (from -r requirements_win.txt (line 118))\n",
      "  Using cached sniffio-1.3.0-py3-none-any.whl (10 kB)\n",
      "Collecting soundfile==0.12.1 (from -r requirements_win.txt (line 119))\n",
      "  Using cached soundfile-0.12.1-py2.py3-none-win_amd64.whl (1.0 MB)\n",
      "Collecting soupsieve==2.5 (from -r requirements_win.txt (line 120))\n",
      "  Obtaining dependency information for soupsieve==2.5 from https://files.pythonhosted.org/packages/4c/f3/038b302fdfbe3be7da016777069f26ceefe11a681055ea1f7817546508e3/soupsieve-2.5-py3-none-any.whl.metadata\n",
      "  Using cached soupsieve-2.5-py3-none-any.whl.metadata (4.7 kB)\n",
      "Collecting soxr==0.3.6 (from -r requirements_win.txt (line 121))\n",
      "  Obtaining dependency information for soxr==0.3.6 from https://files.pythonhosted.org/packages/3a/29/cd396aefb3a07e62b10c01ea9963d66a29a7516dacc7a5dfaaa02cec2da7/soxr-0.3.6-cp311-cp311-win_amd64.whl.metadata\n",
      "  Using cached soxr-0.3.6-cp311-cp311-win_amd64.whl.metadata (5.5 kB)\n",
      "Collecting stack-data==0.6.2 (from -r requirements_win.txt (line 122))\n",
      "  Using cached stack_data-0.6.2-py3-none-any.whl (24 kB)\n",
      "Collecting tensorboard==2.13.0 (from -r requirements_win.txt (line 123))\n",
      "  Using cached tensorboard-2.13.0-py3-none-any.whl (5.6 MB)\n",
      "Collecting tensorboard-data-server==0.7.1 (from -r requirements_win.txt (line 124))\n",
      "  Obtaining dependency information for tensorboard-data-server==0.7.1 from https://files.pythonhosted.org/packages/da/61/6e9ff8258422d287eec718872fb71e05324356722ab658c8afda25f51539/tensorboard_data_server-0.7.1-py3-none-any.whl.metadata\n",
      "  Using cached tensorboard_data_server-0.7.1-py3-none-any.whl.metadata (1.1 kB)\n",
      "Collecting tensorflow==2.13.0 (from -r requirements_win.txt (line 125))\n",
      "  Obtaining dependency information for tensorflow==2.13.0 from https://files.pythonhosted.org/packages/9e/b8/ed5f794359d05cd0bffb894c6418da87b93016ee17b669d55c45d1bd5d5b/tensorflow-2.13.0-cp311-cp311-win_amd64.whl.metadata\n",
      "  Using cached tensorflow-2.13.0-cp311-cp311-win_amd64.whl.metadata (2.6 kB)\n",
      "Collecting tensorflow-estimator==2.13.0 (from -r requirements_win.txt (line 126))\n",
      "  Obtaining dependency information for tensorflow-estimator==2.13.0 from https://files.pythonhosted.org/packages/72/5c/c318268d96791c6222ad7df1651bbd1b2409139afeb6f468c0f327177016/tensorflow_estimator-2.13.0-py2.py3-none-any.whl.metadata\n",
      "  Using cached tensorflow_estimator-2.13.0-py2.py3-none-any.whl.metadata (1.3 kB)\n",
      "Collecting tensorflow-intel==2.13.0 (from -r requirements_win.txt (line 127))\n",
      "  Obtaining dependency information for tensorflow-intel==2.13.0 from https://files.pythonhosted.org/packages/2f/2f/3c84f675931ce3bcbc7e23acbba1e5d7f05ce769adab48322de57a9f5928/tensorflow_intel-2.13.0-cp311-cp311-win_amd64.whl.metadata\n",
      "  Using cached tensorflow_intel-2.13.0-cp311-cp311-win_amd64.whl.metadata (4.1 kB)\n",
      "Collecting tensorflow-io-gcs-filesystem==0.31.0 (from -r requirements_win.txt (line 128))\n",
      "  Using cached tensorflow_io_gcs_filesystem-0.31.0-cp311-cp311-win_amd64.whl (1.5 MB)\n",
      "Collecting termcolor==2.3.0 (from -r requirements_win.txt (line 129))\n",
      "  Using cached termcolor-2.3.0-py3-none-any.whl (6.9 kB)\n",
      "Collecting terminado==0.17.1 (from -r requirements_win.txt (line 130))\n",
      "  Using cached terminado-0.17.1-py3-none-any.whl (17 kB)\n",
      "Collecting threadpoolctl==3.2.0 (from -r requirements_win.txt (line 131))\n",
      "  Obtaining dependency information for threadpoolctl==3.2.0 from https://files.pythonhosted.org/packages/81/12/fd4dea011af9d69e1cad05c75f3f7202cdcbeac9b712eea58ca779a72865/threadpoolctl-3.2.0-py3-none-any.whl.metadata\n",
      "  Using cached threadpoolctl-3.2.0-py3-none-any.whl.metadata (10.0 kB)\n",
      "Collecting tinycss2==1.2.1 (from -r requirements_win.txt (line 132))\n",
      "  Using cached tinycss2-1.2.1-py3-none-any.whl (21 kB)\n",
      "Collecting tomli==2.0.1 (from -r requirements_win.txt (line 133))\n",
      "  Using cached tomli-2.0.1-py3-none-any.whl (12 kB)\n",
      "Requirement already satisfied: tornado==6.3.3 in c:\\users\\neboj\\appdata\\roaming\\python\\python311\\site-packages (from -r requirements_win.txt (line 134)) (6.3.3)\n",
      "Collecting traitlets==5.10.0 (from -r requirements_win.txt (line 135))\n",
      "  Obtaining dependency information for traitlets==5.10.0 from https://files.pythonhosted.org/packages/fb/00/78472b256929614443c3fa3be31ee60777e5a9e3c6770d8d934154aa2cab/traitlets-5.10.0-py3-none-any.whl.metadata\n",
      "  Using cached traitlets-5.10.0-py3-none-any.whl.metadata (10 kB)\n",
      "Collecting typing_extensions==4.5.0 (from -r requirements_win.txt (line 136))\n",
      "  Using cached typing_extensions-4.5.0-py3-none-any.whl (27 kB)\n",
      "Collecting tzdata==2023.3 (from -r requirements_win.txt (line 137))\n",
      "  Using cached tzdata-2023.3-py2.py3-none-any.whl (341 kB)\n",
      "Collecting uri-template==1.3.0 (from -r requirements_win.txt (line 138))\n",
      "  Obtaining dependency information for uri-template==1.3.0 from https://files.pythonhosted.org/packages/e7/00/3fca040d7cf8a32776d3d81a00c8ee7457e00f80c649f1e4a863c8321ae9/uri_template-1.3.0-py3-none-any.whl.metadata\n",
      "  Using cached uri_template-1.3.0-py3-none-any.whl.metadata (8.8 kB)\n",
      "Collecting urllib3==1.26.16 (from -r requirements_win.txt (line 139))\n",
      "  Obtaining dependency information for urllib3==1.26.16 from https://files.pythonhosted.org/packages/c5/05/c214b32d21c0b465506f95c4f28ccbcba15022e000b043b72b3df7728471/urllib3-1.26.16-py2.py3-none-any.whl.metadata\n",
      "  Using cached urllib3-1.26.16-py2.py3-none-any.whl.metadata (48 kB)\n",
      "Collecting wcwidth==0.2.6 (from -r requirements_win.txt (line 140))\n",
      "  Using cached wcwidth-0.2.6-py2.py3-none-any.whl (29 kB)\n",
      "Collecting webcolors==1.13 (from -r requirements_win.txt (line 141))\n",
      "  Using cached webcolors-1.13-py3-none-any.whl (14 kB)\n",
      "Collecting webencodings==0.5.1 (from -r requirements_win.txt (line 142))\n",
      "  Using cached webencodings-0.5.1-py2.py3-none-any.whl (11 kB)\n",
      "Collecting websocket-client==1.6.3 (from -r requirements_win.txt (line 143))\n",
      "  Obtaining dependency information for websocket-client==1.6.3 from https://files.pythonhosted.org/packages/0b/50/49e0d7342e5d441d43b525d6c84656ea40aea3e58d530004d07b22bc9b04/websocket_client-1.6.3-py3-none-any.whl.metadata\n",
      "  Using cached websocket_client-1.6.3-py3-none-any.whl.metadata (7.7 kB)\n",
      "Collecting Werkzeug==2.3.7 (from -r requirements_win.txt (line 144))\n",
      "  Obtaining dependency information for Werkzeug==2.3.7 from https://files.pythonhosted.org/packages/9b/59/a7c32e3d8d0e546a206e0552a2c04444544f15c1da4a01df8938d20c6ffc/werkzeug-2.3.7-py3-none-any.whl.metadata\n",
      "  Using cached werkzeug-2.3.7-py3-none-any.whl.metadata (4.1 kB)\n",
      "Collecting wrapt==1.15.0 (from -r requirements_win.txt (line 145))\n",
      "  Using cached wrapt-1.15.0-cp311-cp311-win_amd64.whl (36 kB)\n",
      "Collecting wheel<1.0,>=0.23.0 (from astunparse==1.6.3->-r requirements_win.txt (line 7))\n",
      "  Obtaining dependency information for wheel<1.0,>=0.23.0 from https://files.pythonhosted.org/packages/b8/8b/31273bf66016be6ad22bb7345c37ff350276cfd46e389a0c2ac5da9d9073/wheel-0.41.2-py3-none-any.whl.metadata\n",
      "  Using cached wheel-0.41.2-py3-none-any.whl.metadata (2.2 kB)\n",
      "Collecting jsonschema[format-nongpl]>=4.18.0 (from jupyter-events==0.7.0->-r requirements_win.txt (line 49))\n",
      "  Obtaining dependency information for jsonschema[format-nongpl]>=4.18.0 from https://files.pythonhosted.org/packages/0f/bf/a84bc75f069f4f156e1c0d9892fb7325945106c6ecaad9f29d24360872af/jsonschema-4.19.1-py3-none-any.whl.metadata\n",
      "  Using cached jsonschema-4.19.1-py3-none-any.whl.metadata (7.9 kB)\n",
      "Requirement already satisfied: setuptools>=41.0.0 in c:\\program files\\python311\\lib\\site-packages (from tensorboard==2.13.0->-r requirements_win.txt (line 123)) (65.5.0)\n",
      "INFO: pip is looking at multiple versions of jsonschema[format-nongpl] to determine which version is compatible with other requirements. This could take a while.\n",
      "Using cached anyio-4.0.0-py3-none-any.whl (83 kB)\n",
      "Using cached argon2_cffi-23.1.0-py3-none-any.whl (15 kB)\n",
      "Using cached async_lru-2.0.4-py3-none-any.whl (6.1 kB)\n",
      "Using cached cachetools-5.3.1-py3-none-any.whl (9.3 kB)\n",
      "Using cached certifi-2023.7.22-py3-none-any.whl (158 kB)\n",
      "Using cached charset_normalizer-3.2.0-cp311-cp311-win_amd64.whl (96 kB)\n",
      "Using cached contourpy-1.1.1-cp311-cp311-win_amd64.whl (480 kB)\n",
      "Using cached exceptiongroup-1.1.3-py3-none-any.whl (14 kB)\n",
      "Using cached fastjsonschema-2.18.0-py3-none-any.whl (23 kB)\n",
      "Using cached flatbuffers-23.5.26-py2.py3-none-any.whl (26 kB)\n",
      "Using cached fonttools-4.42.1-cp311-cp311-win_amd64.whl (2.1 MB)\n",
      "Using cached google_auth-2.23.0-py2.py3-none-any.whl (181 kB)\n",
      "Using cached grpcio-1.58.0-cp311-cp311-win_amd64.whl (4.3 MB)\n",
      "Using cached h5py-3.9.0-cp311-cp311-win_amd64.whl (2.7 MB)\n",
      "Using cached ipython-8.15.0-py3-none-any.whl (806 kB)\n",
      "Using cached jedi-0.19.0-py2.py3-none-any.whl (1.6 MB)\n",
      "Using cached joblib-1.3.2-py3-none-any.whl (302 kB)\n",
      "Using cached json5-0.9.14-py2.py3-none-any.whl (19 kB)\n",
      "Using cached jsonpointer-2.4-py2.py3-none-any.whl (7.8 kB)\n",
      "Using cached jsonschema-4.19.0-py3-none-any.whl (83 kB)\n",
      "Using cached jsonschema_specifications-2023.7.1-py3-none-any.whl (17 kB)\n",
      "Using cached jupyter_events-0.7.0-py3-none-any.whl (18 kB)\n",
      "Using cached jupyter_lsp-2.2.0-py3-none-any.whl (65 kB)\n",
      "Using cached jupyter_client-8.3.1-py3-none-any.whl (104 kB)\n",
      "Using cached jupyter_core-5.3.1-py3-none-any.whl (93 kB)\n",
      "Using cached jupyter_server-2.7.3-py3-none-any.whl (375 kB)\n",
      "Using cached jupyterlab-4.0.6-py3-none-any.whl (9.2 MB)\n",
      "Using cached jupyterlab_server-2.25.0-py3-none-any.whl (57 kB)\n",
      "Using cached keras-2.13.1-py3-none-any.whl (1.7 MB)\n",
      "Using cached kiwisolver-1.4.5-cp311-cp311-win_amd64.whl (56 kB)\n",
      "Using cached lazy_loader-0.3-py3-none-any.whl (9.1 kB)\n",
      "Using cached libclang-16.0.6-py2.py3-none-win_amd64.whl (24.4 MB)\n",
      "Using cached librosa-0.10.1-py3-none-any.whl (253 kB)\n",
      "Using cached llvmlite-0.40.1-cp311-cp311-win_amd64.whl (27.7 MB)\n",
      "Using cached Markdown-3.4.4-py3-none-any.whl (94 kB)\n",
      "Using cached MarkupSafe-2.1.3-cp311-cp311-win_amd64.whl (17 kB)\n",
      "Using cached matplotlib-3.8.0-cp311-cp311-win_amd64.whl (7.6 MB)\n",
      "Using cached mistune-3.0.1-py3-none-any.whl (47 kB)\n",
      "Using cached nbclient-0.8.0-py3-none-any.whl (73 kB)\n",
      "Using cached nbconvert-7.8.0-py3-none-any.whl (254 kB)\n",
      "Using cached nbformat-5.9.2-py3-none-any.whl (77 kB)\n",
      "Using cached notebook-7.0.3-py3-none-any.whl (4.0 MB)\n",
      "Using cached numba-0.57.1-cp311-cp311-win_amd64.whl (2.6 MB)\n",
      "Using cached opencv_python-4.8.0.76-cp37-abi3-win_amd64.whl (38.1 MB)\n",
      "Using cached overrides-7.4.0-py3-none-any.whl (17 kB)\n",
      "Using cached pandas-2.1.0-cp311-cp311-win_amd64.whl (11.0 MB)\n",
      "Using cached Pillow-10.0.1-cp311-cp311-win_amd64.whl (2.5 MB)\n",
      "Using cached platformdirs-3.10.0-py3-none-any.whl (17 kB)\n",
      "Using cached prometheus_client-0.17.1-py3-none-any.whl (60 kB)\n",
      "Using cached protobuf-4.24.3-cp310-abi3-win_amd64.whl (430 kB)\n",
      "Using cached pyparsing-3.1.1-py3-none-any.whl (103 kB)\n",
      "Using cached pytz-2023.3.post1-py2.py3-none-any.whl (502 kB)\n",
      "Using cached pywinpty-2.0.11-cp311-none-win_amd64.whl (1.4 MB)\n",
      "Using cached PyYAML-6.0.1-cp311-cp311-win_amd64.whl (144 kB)\n",
      "Using cached referencing-0.30.2-py3-none-any.whl (25 kB)\n",
      "Using cached requests-2.31.0-py3-none-any.whl (62 kB)\n",
      "Using cached rpds_py-0.10.3-cp311-none-win_amd64.whl (186 kB)\n",
      "Using cached scikit_learn-1.3.0-cp311-cp311-win_amd64.whl (9.2 MB)\n",
      "Using cached scipy-1.11.2-cp311-cp311-win_amd64.whl (44.0 MB)\n",
      "Using cached soupsieve-2.5-py3-none-any.whl (36 kB)\n",
      "Using cached soxr-0.3.6-cp311-cp311-win_amd64.whl (185 kB)\n",
      "Using cached tensorboard_data_server-0.7.1-py3-none-any.whl (2.4 kB)\n",
      "Using cached tensorflow-2.13.0-cp311-cp311-win_amd64.whl (1.9 kB)\n",
      "Using cached tensorflow_estimator-2.13.0-py2.py3-none-any.whl (440 kB)\n",
      "Using cached tensorflow_intel-2.13.0-cp311-cp311-win_amd64.whl (276.6 MB)\n",
      "Using cached threadpoolctl-3.2.0-py3-none-any.whl (15 kB)\n",
      "Using cached traitlets-5.10.0-py3-none-any.whl (120 kB)\n",
      "Using cached uri_template-1.3.0-py3-none-any.whl (11 kB)\n",
      "Using cached urllib3-1.26.16-py2.py3-none-any.whl (143 kB)\n",
      "Using cached websocket_client-1.6.3-py3-none-any.whl (57 kB)\n",
      "Using cached werkzeug-2.3.7-py3-none-any.whl (242 kB)\n",
      "Using cached wheel-0.41.2-py3-none-any.whl (64 kB)\n",
      "Installing collected packages: webencodings, wcwidth, pytz, msgpack, libclang, json5, flatbuffers, fastjsonschema, executing, wrapt, wheel, websocket-client, webcolors, urllib3, uri-template, tzdata, typing_extensions, traitlets, tomli, tinycss2, threadpoolctl, termcolor, tensorflow-io-gcs-filesystem, tensorflow-estimator, tensorboard-data-server, soupsieve, sniffio, Send2Trash, rpds-py, rfc3986-validator, rfc3339-validator, PyYAML, pywinpty, python-json-logger, pyparsing, pycparser, pyasn1, psutil, protobuf, prometheus-client, platformdirs, Pillow, pandocfilters, packaging, overrides, oauthlib, numpy, mistune, MarkupSafe, Markdown, llvmlite, lazy_loader, kiwisolver, keras, jupyterlab-pygments, jsonpointer, joblib, jedi, idna, grpcio, google-pasta, gast, fqdn, fonttools, exceptiongroup, defusedxml, cycler, charset-normalizer, certifi, cachetools, bleach, Babel, audioread, attrs, async-lru, absl-py, Werkzeug, terminado, stack-data, soxr, scipy, rsa, requests, referencing, pyasn1-modules, pandas, opt-einsum, opencv-python, numba, jupyter_core, Jinja2, h5py, contourpy, cffi, beautifulsoup4, astunparse, arrow, anyio, soundfile, scikit-learn, requests-oauthlib, pooch, matplotlib, jupyter_server_terminals, jupyter_client, jsonschema-specifications, isoduration, ipython, google-auth, argon2-cffi-bindings, librosa, jsonschema, google-auth-oauthlib, argon2-cffi, tensorboard, nbformat, tensorflow-intel, nbclient, jupyter-events, tensorflow, nbconvert, jupyter_server, notebook_shim, jupyterlab_server, jupyter-lsp, jupyterlab, notebook\n",
      "  Attempting uninstall: wcwidth\n",
      "    Found existing installation: wcwidth 0.2.8\n",
      "    Uninstalling wcwidth-0.2.8:\n",
      "      Successfully uninstalled wcwidth-0.2.8\n",
      "  Attempting uninstall: executing\n",
      "    Found existing installation: executing 2.0.0\n",
      "    Uninstalling executing-2.0.0:\n",
      "      Successfully uninstalled executing-2.0.0\n",
      "  Attempting uninstall: traitlets\n",
      "    Found existing installation: traitlets 5.11.2\n",
      "    Uninstalling traitlets-5.11.2:\n",
      "      Successfully uninstalled traitlets-5.11.2\n",
      "  Attempting uninstall: psutil\n",
      "    Found existing installation: psutil 5.9.6\n",
      "    Uninstalling psutil-5.9.6:\n",
      "      Successfully uninstalled psutil-5.9.6\n",
      "Note: you may need to restart the kernel to use updated packages.\n"
     ]
    },
    {
     "name": "stderr",
     "output_type": "stream",
     "text": [
      "ERROR: Could not install packages due to an OSError: [WinError 5] Access is denied: 'C:\\\\Users\\\\neboj\\\\AppData\\\\Roaming\\\\Python\\\\Python311\\\\site-packages\\\\~sutil\\\\_psutil_windows.pyd'\n",
      "Check the permissions.\n",
      "\n",
      "\n",
      "[notice] A new release of pip is available: 23.2.1 -> 23.3\n",
      "[notice] To update, run: python.exe -m pip install --upgrade pip\n"
     ]
    }
   ],
   "source": [
    "pip install -r requirements_win.txt"
   ]
  },
  {
   "cell_type": "markdown",
   "id": "a669b8b6-17cc-4b04-bf79-89f8e9af3a84",
   "metadata": {},
   "source": [
    "# Numpy\n",
    "\n",
    "Numpy je biblioteka za \"scientific computing\" u Python-u. Raspolaže sa alatima za kreiranje i rukovanje multi-dimenzionim matricama. Postoje sličnosti sa Matlab-om. Pre korišćena neophodno je izvršiti import numpy biblioteke unutar skripte/python fajla."
   ]
  },
  {
   "cell_type": "code",
   "execution_count": 12,
   "id": "a64d7c76-2805-4a7c-a066-4d21c42f674b",
   "metadata": {},
   "outputs": [],
   "source": [
    "import numpy as np"
   ]
  },
  {
   "cell_type": "markdown",
   "id": "da320621-6491-4871-b6c5-63eaadb53cdb",
   "metadata": {},
   "source": [
    "Uz pomoć numpy definišemo više-dimenzione nizove tj. tenzore (eng. tensors). Broj dimenzija predstavlja rang (eng. rank) od niza, i oblike (eng. shape) je veličina niza po svim dimenzijama tj. osama (eng. axis). Tenzori služe za reprezentacija podataka unutar neuronskih mreža i ti podaci su uglavnom brojevi.\n",
    "Postoje:\n",
    "- skalari (0D tenzor) - broj\n",
    "- Vektorti (1D tenzor) - niz \n",
    "- Matrice (2D tenzor)\n",
    "- 3D i više-dimenzioni tenzori uz pomoć kojih predstavljamo kompleksne podatke kao što su slike, video, zvuk, itd. \n",
    "\n",
    "Nizovi sadrže isti tip vrednosti elemenata i elementi su indeksirani kao skup nenagativnih brojeva od 0.\n",
    "\n",
    "## Vektori (eng. Arrays)\n",
    "\n",
    "Numpy vektor ili 1D tenzor, je niz sa jednom osom (rang 1). \n",
    "Postoji mnogo funkcija za rad sa numpy nizovima definisanih u numpy biblioteci."
   ]
  },
  {
   "cell_type": "code",
   "execution_count": 13,
   "id": "49318c23-3f4d-4312-95a4-55224b623e88",
   "metadata": {},
   "outputs": [
    {
     "name": "stdout",
     "output_type": "stream",
     "text": [
      "[1 2 3]\n",
      "(3,)\n",
      "3\n"
     ]
    }
   ],
   "source": [
    "# kreiranje niza ranga 1 \n",
    "a = np.array([1, 2, 3])\n",
    "print(a)\n",
    "\n",
    "# oblik, broj elemenata po x-osi\n",
    "print(a.shape)\n",
    "\n",
    "# pristupanju elementu po indeksu/poziciji \n",
    "print(a[2])"
   ]
  },
  {
   "cell_type": "markdown",
   "id": "5b8a0ca3-7670-4696-9754-ad0bbc95039f",
   "metadata": {},
   "source": [
    "## Matrice (eng. Matrics)\n",
    "\n",
    "Matrica ili 2D tenzor, je niz sa dve ose (rang 2)."
   ]
  },
  {
   "cell_type": "code",
   "execution_count": 16,
   "id": "c3ac34be-6e29-4ded-a431-2c70dd401c4e",
   "metadata": {},
   "outputs": [
    {
     "name": "stdout",
     "output_type": "stream",
     "text": [
      "Dvodimenzioni niz-matrica:\n",
      "m=[[1 2 3]\n",
      " [4 5 6]]\n",
      "\n",
      "Broj redova: 2 \n",
      "Broj kolona: 3\n",
      "\n",
      "Element m[0, 1] = 2\n",
      "\n",
      "Matrica sa nulama:\n",
      " [[0. 0.]\n",
      " [0. 0.]]\n",
      "\n",
      "Matrica sa jedinicama:\n",
      " [[1. 1.]\n",
      " [1. 1.]\n",
      " [1. 1.]]\n",
      "\n",
      "np.eye(2,3):\n",
      " [[1. 0. 0.]\n",
      " [0. 1. 0.]]\n",
      "\n",
      "np.identity(2):\n",
      " [[1. 0.]\n",
      " [0. 1.]]\n",
      "\n",
      "Kreiranje niza sa zadatom konstatom:\n",
      " [[7 7]\n",
      " [7 7]]\n",
      "\n",
      "Matrica sa random vrednostima:\n",
      " [[0.85961482 0.14718762]\n",
      " [0.07466665 0.40581897]]\n"
     ]
    }
   ],
   "source": [
    "# dvodimenzioni niz - matrica \n",
    "\n",
    "m = np.array([[1, 2, 3], [4, 5, 6]])\n",
    "print(f\"Dvodimenzioni niz-matrica:\\nm={m}\\n\") \n",
    "\n",
    "red, kolona = m.shape\n",
    "print(f\"Broj redova: {red} \\nBroj kolona: {kolona}\\n\")\n",
    "\n",
    "# element u 0 redu i 1 koloni\n",
    "print(f\"Element m[0, 1] = {m[0, 1]}\\n\")\n",
    "\n",
    "# kreiranje matrice od nula na osnovu zadatog broja redova i kolona\n",
    "a = np.zeros((2, 2))\n",
    "print(f\"Matrica sa nulama:\\n {a}\\n\")\n",
    "\n",
    "# kreiranje matrice od jedinica na osnovu zadatog broja redova i kolona\n",
    "b = np.ones((3, 2))\n",
    "print(f\"Matrica sa jedinicama:\\n {b}\\n\")\n",
    "\n",
    "# kreira matrricu sa jedinicama na dijagonali, a ostali elementi su 0. Ne mora biti kvadratna matrica.\n",
    "print(f\"np.eye(2,3):\\n {np.eye(2, 3)}\\n\")\n",
    "# kreira kvadratnu matrrica sa jedinicama na dijagonali, a ostali elementi su 0\n",
    "print(f\"np.identity(2):\\n {np.identity(2)}\\n\")\n",
    "\n",
    "c = np.full((2, 2), 7)\n",
    "print(f\"Kreiranje niza sa zadatom konstatom:\\n {c}\\n\")\n",
    "\n",
    "d = np.random.random((2, 2))\n",
    "print(f\"Matrica sa random vrednostima:\\n {d}\")"
   ]
  },
  {
   "cell_type": "code",
   "execution_count": null,
   "id": "b2ee3ab3-7bfc-4814-8313-11565240413c",
   "metadata": {},
   "outputs": [],
   "source": [
    "# Rezultat je vektor sa prvim i poslednjim elementom zadatim sa prvim i drugim parametrom i ukupnim brojem elemenata\n",
    "# predstavljen trećim parametrom\n",
    "print(np.linspace(-5, 5, 10))"
   ]
  },
  {
   "cell_type": "code",
   "execution_count": null,
   "id": "28fcb3d2-1514-4b9b-a7e0-1bb181db210a",
   "metadata": {},
   "outputs": [],
   "source": [
    "#dijagonala\n",
    "print(np.diag([1,2,3,4,5]),'\\n')\n",
    "\n",
    "#transponovanje\n",
    "m = np.array([[1,2],[3,4]])\n",
    "print(m.T)"
   ]
  },
  {
   "cell_type": "markdown",
   "id": "d1c109f9-aff8-4327-8d4c-eb30a3660bc0",
   "metadata": {},
   "source": [
    "## Indeksiranje nizova\n",
    "\n",
    "Postoji nekoliko načina za indeksiranje nizova. \n",
    "\n",
    "Spomenućemo sledeća:\n",
    "- Slicing\n",
    "- Integer indeksiranje\n",
    "- Boolean indeksiranje\n",
    "\n",
    "**Slicing** - numpy nizovi su više-dimenzioni nizovi te mora da se zada slice za svaku dimenziju."
   ]
  },
  {
   "cell_type": "code",
   "execution_count": null,
   "id": "16eb6bfc-b36f-4f01-ae0a-c74597a29d13",
   "metadata": {},
   "outputs": [],
   "source": [
    "a = np.array([[1,2,3,4], [5,6,7,8], [9,10,11,12]])\n",
    "print(f\"Matrica \\na={a}\\nranga 2\\noblika:{np.shape(a)}\\n\")\n",
    "\n",
    "# Izdvojiće se podmatrica od matrice a, gde se uzimaju prva dva reda, i 1 i 2 kolona matrice a\n",
    "b = a[:2, 1:3]\n",
    "print(f\"Matrica b = [:2, 1:3]\\nb={b}\")"
   ]
  },
  {
   "cell_type": "markdown",
   "id": "1eb0e971-5700-4815-a97e-d59a55a01687",
   "metadata": {},
   "source": [
    "Slice nekog niza predstavlja samo pogled na originalni niz, svaka modifikacija direktno utiče na originalni niz"
   ]
  },
  {
   "cell_type": "code",
   "execution_count": null,
   "id": "9c24c0c1-8d37-4880-b476-197b3eae5064",
   "metadata": {},
   "outputs": [],
   "source": [
    "print(f\"Stara vrednost elementa a[0, 1]={a[0, 1]}\\n\")   \n",
    "b[0, 0] = 77    \n",
    "print(f\"Nakon izmene b[0, 0] = 77\\nnova vrednost je a[0, 1]={a[0, 1]}\")   "
   ]
  },
  {
   "cell_type": "markdown",
   "id": "b638d28a-1caa-4396-87cc-1530d1d8639b",
   "metadata": {},
   "source": [
    "**Integer indeksiranje**"
   ]
  },
  {
   "cell_type": "code",
   "execution_count": null,
   "id": "104f6ffa-cb92-4227-8c7b-0d649c1469de",
   "metadata": {},
   "outputs": [],
   "source": [
    "a = np.array([[1, 2], [3, 4], [5, 6]])\n",
    "print(f\"a =\\n {a}\\n\")\n",
    "\n",
    "m = a[[0, 1, 2], [0, 1, 0]]\n",
    "print (f\"a[[0, 1, 2], [0, 1, 0]] = {m}\\nima oblike {np.shape(m)}\\n\")\n",
    "\n",
    "# Ekvivalentno prethnom primeru\n",
    "m = np.array([a[0, 0], a[1, 1], a[2, 0]])\n",
    "print (f\"np.array([a[0, 0], a[1, 1], a[2, 0]]) = {m}\\n\")\n",
    "\n",
    "print(f\"a[[0, 0], [1, 1]] = {a[[0, 0], [1, 1]]}\") \n",
    "# Ekvivalentno prethnom primeru\n",
    "print(f\"np.array([a[0, 1], a[0, 1]]) = {np.array([a[0, 1], a[0, 1]])}\\n\") "
   ]
  },
  {
   "cell_type": "markdown",
   "id": "c491008d-69db-451b-a1f0-f05fe25349cd",
   "metadata": {},
   "source": [
    "Selekcija ili izmena jednog elementa iz svakog reda."
   ]
  },
  {
   "cell_type": "code",
   "execution_count": 17,
   "id": "89bf1a6d-5123-4e04-a736-87fe4f88028a",
   "metadata": {},
   "outputs": [
    {
     "name": "stdout",
     "output_type": "stream",
     "text": [
      "a =\n",
      "[[ 1  2  3]\n",
      " [ 4  5  6]\n",
      " [ 7  8  9]\n",
      " [10 11 12]]\n",
      "\n",
      "[ 1  6  7 11] \n",
      "\n",
      "[[11  2  3]\n",
      " [ 4  5 16]\n",
      " [17  8  9]\n",
      " [10 21 12]] \n",
      "\n"
     ]
    }
   ],
   "source": [
    "a = np.array([[1,2,3], [4,5,6], [7,8,9], [10, 11, 12]])\n",
    "\n",
    "print(f\"a =\\n{a}\\n\")  \n",
    "\n",
    "# niz indeksa\n",
    "b = np.array([0, 2, 0, 1])\n",
    "\n",
    "# Selektuje se jedan element iz svakog reda iz matrice a koristeći pozicije u vektoru b\n",
    "print(a[np.arange(4), b],\"\\n\")  \n",
    "\n",
    "# Izmeni se jedan element iz svakog reda iz matrice a koristeći pozicije u vektoru b\n",
    "a[np.arange(4), b] += 10\n",
    "print(a,\"\\n\")  "
   ]
  },
  {
   "cell_type": "markdown",
   "id": "56ea4f02-f2d9-4d77-a029-76c95f29cedb",
   "metadata": {},
   "source": [
    "Postoji mogućnost kombinovanja integer i slice indeksiranja, ali ovo nije isto kao u MATLAB-u."
   ]
  },
  {
   "cell_type": "code",
   "execution_count": 18,
   "id": "1f4cd384-f7fb-4803-a014-7e99836da378",
   "metadata": {},
   "outputs": [
    {
     "name": "stdout",
     "output_type": "stream",
     "text": [
      "Indeksiranje po redovima.\n",
      "[5 6 7 8] (4,)\n",
      "[[5 6 7 8]] (1, 4)\n",
      "[[5 6 7 8]] (1, 4)\n",
      "\n",
      "Indeksiranje po kolonama.\n",
      "[ 2  6 10] (3,)\n",
      "\n",
      "[[ 2]\n",
      " [ 6]\n",
      " [10]] (3, 1)\n"
     ]
    }
   ],
   "source": [
    "a = np.array([[1,2,3,4], [5,6,7,8], [9,10,11,12]])\n",
    "\n",
    "print(\"Indeksiranje po redovima.\")\n",
    "red_r1 = a[1, :]    # Rang 1 pogled od drugog reda matrice a \n",
    "red_r2 = a[1:2, :]  # Rang 2 pogled od drugog reda matrice a \n",
    "red_r3 = a[[1], :]  # Rang 2 pogled od drugog reda matrice a\n",
    "print (red_r1, red_r1.shape) \n",
    "print (red_r2, red_r2.shape)\n",
    "print (red_r3, red_r3.shape)\n",
    "\n",
    "print(\"\\nIndeksiranje po kolonama.\")\n",
    "kol_r1 = a[:, 1]\n",
    "kol_r2 = a[:, 1:2]\n",
    "print (kol_r1, kol_r1.shape)\n",
    "print ()\n",
    "print (kol_r2, kol_r2.shape)"
   ]
  },
  {
   "cell_type": "markdown",
   "id": "2c4b5d73-0183-478e-b62a-ee455ffc1d73",
   "metadata": {},
   "source": [
    "**Boolean indeksiranje** - primena kod selekcije elemenata koji ispunjavaju zadati uslov"
   ]
  },
  {
   "cell_type": "code",
   "execution_count": null,
   "id": "3fad6d04-a3aa-4ef2-a419-f7af27f4fb63",
   "metadata": {},
   "outputs": [],
   "source": [
    "a = np.array([[1, 2], [3, 4], [5, 6]])\n",
    "print(a, \"\\n\")\n",
    "\n",
    "print(\"Vratiti sve elemente koji su veći od 2.\\n\")\n",
    "bool_idx = (a>2)\n",
    "print(bool_idx, \"\\n\")\n",
    "\n",
    "print(a[bool_idx], \"\\n\")\n",
    "# ili \n",
    "print(a[a > 2], \"\\n\")"
   ]
  },
  {
   "cell_type": "markdown",
   "id": "e5e1f1cb-ce90-48ff-97f2-f47c727cba8f",
   "metadata": {},
   "source": [
    "Za detaljniji pregled numpy indeksiranje niza pročitajte [dokumentaciju](https://numpy.org/doc/stable/reference/arrays.indexing.html).\n",
    "\n",
    "## Tipovi podataka \n",
    "\n",
    "Numpy nizovi sadrže elemente istog tipa. Numpy nudi veliki skup numeričkih tipova podataka uz pomoć kojih se definišu nizovi. Ako se eksplicitno ne navede tip podatka, numpy pokušava da pogodi koji je tip u pitanju. Praksa je da se navede tip elemenata prilikom definisanja niza."
   ]
  },
  {
   "cell_type": "code",
   "execution_count": null,
   "id": "6d312652-f63d-48e4-ab3e-5bfe580104b8",
   "metadata": {},
   "outputs": [],
   "source": [
    "x = np.array([1, 2])  # Numpy odabira tip podatka\n",
    "y = np.array([1.0, 2.0])  # Numpy odabira tip podatka\n",
    "z = np.array([1, 2], dtype=np.int64)  # Eksplicitno je naveden tip podatka\n",
    "\n",
    "print (x.dtype, y.dtype, z.dtype)"
   ]
  },
  {
   "cell_type": "markdown",
   "id": "b93ab08a-d95b-43ca-ac76-d18047772517",
   "metadata": {},
   "source": [
    "Više o tipovima podatka u Numpy biblioteci može se pronaći na [linku](https://numpy.org/doc/stable/reference/arrays.dtypes.html).\n",
    "\n",
    "## Matematičke operacije\n",
    "\n",
    "Osnovne matematičke operacije se primenjuju na svaki element u nizu. Operacije su dostupne kao preklopljeni operator i kao funkcija.\n"
   ]
  },
  {
   "cell_type": "code",
   "execution_count": 19,
   "id": "31d833bc-4f7e-41ad-af1f-f2cfc956de16",
   "metadata": {},
   "outputs": [
    {
     "name": "stdout",
     "output_type": "stream",
     "text": [
      "Sabiranje elemenata matrice\n",
      "x + y =\n",
      "[[ 6.  8.]\n",
      " [10. 12.]]\n",
      "\n",
      "np.add(x, y)\n",
      "[[ 6.  8.]\n",
      " [10. 12.]]\n",
      "\n",
      "Oduzimanje elemenata matrice\n",
      "x - y =\n",
      "[[-4. -4.]\n",
      " [-4. -4.]]\n",
      "\n",
      "np.subtract(x, y)\n",
      "[[-4. -4.]\n",
      " [-4. -4.]]\n",
      "\n",
      "Množenje\n",
      "x * y =\n",
      "[[ 5. 12.]\n",
      " [21. 32.]]\n",
      "\n",
      "np.multiply(x, y)\n",
      "[[ 5. 12.]\n",
      " [21. 32.]]\n",
      "\n",
      "Deljenje\n",
      "x / y =\n",
      "[[0.2        0.33333333]\n",
      " [0.42857143 0.5       ]]\n",
      "\n",
      "np.divide(x, y)\n",
      "[[0.2        0.33333333]\n",
      " [0.42857143 0.5       ]]\n",
      "\n",
      "Kvadriranje\n",
      "np.sqrt(x)\n",
      "[[1.         1.41421356]\n",
      " [1.73205081 2.        ]]\n"
     ]
    }
   ],
   "source": [
    "x = np.array([[1,2],[3,4]], dtype=np.float64)\n",
    "y = np.array([[5,6],[7,8]], dtype=np.float64)\n",
    "\n",
    "print(\"Sabiranje elemenata matrice\")\n",
    "print(f\"x + y =\\n{x + y}\\n\")\n",
    "print(f\"np.add(x, y)\\n{np.add(x, y)}\\n\")\n",
    "\n",
    "print(\"Oduzimanje elemenata matrice\")\n",
    "print(f\"x - y =\\n{x - y}\\n\")\n",
    "print(f\"np.subtract(x, y)\\n{np.subtract(x, y)}\\n\")\n",
    "\n",
    "print(\"Množenje\")\n",
    "print(f\"x * y =\\n{x * y}\\n\")\n",
    "print(f\"np.multiply(x, y)\\n{np.multiply(x, y)}\\n\")\n",
    "\n",
    "print(\"Deljenje\")\n",
    "print(f\"x / y =\\n{x / y}\\n\")\n",
    "print(f\"np.divide(x, y)\\n{np.divide(x, y)}\\n\")\n",
    "\n",
    "print(\"Kvadriranje\")\n",
    "print(f\"np.sqrt(x)\\n{np.sqrt(x)}\")"
   ]
  },
  {
   "cell_type": "markdown",
   "id": "59ec984e-6738-42f2-85b8-e0f45288d833",
   "metadata": {},
   "source": [
    "Za razliku od MATLAB-a, ``*`` je operator koji množi svaki element matrice i ne predstavlja matrično množenje. Za matrično množenje potrebno je da se pozove ``dot`` funkcija iz Numpy. Ova funkcija može da se pozove kao funkcija niza ili kao zasebna funckija."
   ]
  },
  {
   "cell_type": "code",
   "execution_count": 20,
   "id": "b240fab9-7023-4787-a4ef-a29f455d725c",
   "metadata": {},
   "outputs": [
    {
     "name": "stdout",
     "output_type": "stream",
     "text": [
      "Matrićno množenje\n",
      "Množenje vektora, rezultat je skalarna vrednost.\n",
      "\n",
      "v.dot(w) = 219\n",
      "np.dot(v, w) = 219\n",
      "\n",
      "Množenje matrice i vektora, rezultat je vektor (rang 1 niz).\n",
      "\n",
      "x.dot(v) = [29 67]\n",
      "\n",
      "np.dot(x, v) = [29 67]\n",
      "\n",
      "Množenje matrica, rezultat je matrica (rang 2 niz).\n",
      "\n",
      "x.dot(y) =\n",
      "[[19 22]\n",
      " [43 50]]\n",
      "\n",
      "np.dot(x, y) =\n",
      "[[19 22]\n",
      " [43 50]]\n"
     ]
    }
   ],
   "source": [
    "x = np.array([[1, 2], [3, 4]])\n",
    "y = np.array([[5, 6], [7, 8]])\n",
    "\n",
    "v = np.array([9, 10])\n",
    "w = np.array([11, 12])\n",
    "\n",
    "print(\"Matrićno množenje\")\n",
    "print(\"Množenje vektora, rezultat je skalarna vrednost.\\n\")\n",
    "print (f\"v.dot(w) = {v.dot(w)}\")\n",
    "print (f\"np.dot(v, w) = {np.dot(v, w)}\\n\")\n",
    "\n",
    "print(\"Množenje matrice i vektora, rezultat je vektor (rang 1 niz).\\n\")\n",
    "print (f\"x.dot(v) = {x.dot(v)}\\n\")\n",
    "print (f\"np.dot(x, v) = {np.dot(x, v)}\\n\")\n",
    "\n",
    "print(\"Množenje matrica, rezultat je matrica (rang 2 niz).\\n\")\n",
    "print (f\"x.dot(y) =\\n{x.dot(y)}\\n\")\n",
    "print (f\"np.dot(x, y) =\\n{np.dot(x, y)}\")"
   ]
  },
  {
   "cell_type": "markdown",
   "id": "9fe33cb5-5d2e-4a0f-86cb-fb14224ead76",
   "metadata": {},
   "source": [
    "Pored standardnih matematičkih operacija ``Numpy`` nudi funkcije koje se izvršavaju nad nizovima. Na primer ``sum``."
   ]
  },
  {
   "cell_type": "code",
   "execution_count": 21,
   "id": "65d1f956-a0ed-4eb7-af57-fe125ca4896f",
   "metadata": {},
   "outputs": [
    {
     "name": "stdout",
     "output_type": "stream",
     "text": [
      "x=\n",
      "[[1 2]\n",
      " [3 4]]\n",
      "\n",
      "Suma svih elemenata np.sum(x)\n",
      "10\n",
      "\n",
      "Suma elemanata po kolonama np.sum(x, axis=0)\n",
      "[4 6]\n",
      "\n",
      "Suma elemanata po redovima np.sum(x, axis=1)\n",
      "[3 7]\n"
     ]
    }
   ],
   "source": [
    "x = np.array([[1, 2], [3, 4]])\n",
    "print(f\"x=\\n{x}\\n\")\n",
    "print(f\"Suma svih elemenata np.sum(x)\\n{np.sum(x)}\\n\") \n",
    "print(f\"Suma elemanata po kolonama np.sum(x, axis=0)\\n{np.sum(x, axis=0)}\\n\")  \n",
    "print(f\"Suma elemanata po redovima np.sum(x, axis=1)\\n{np.sum(x, axis=1)}\") "
   ]
  },
  {
   "cell_type": "markdown",
   "id": "331caa1d-4803-40b2-8a76-cb5f597c7eef",
   "metadata": {},
   "source": [
    "Detaljnije o matematičkim operacijama nalazi se u [dokumentaciji](https://numpy.org/doc/stable/reference/routines.math.html).\n",
    "\n",
    "Pored česte primene matematičkih operacija nad nizovima, neophodno ih je preoblikovati ili manipulisati sa podacima unutar nizova. Najjednostavniji primer ovog tipa operacije je transponovanje matrice. Matrica se transponuje pozivom atributa ``T`` nad objektom niza."
   ]
  },
  {
   "cell_type": "code",
   "execution_count": null,
   "id": "1270a83d-227b-4e7b-b9cc-9428a4abf33f",
   "metadata": {},
   "outputs": [],
   "source": [
    "x = np.array([[1, 2], [3, 4]])\n",
    "\n",
    "print(f\"x=\\n{x}\\n\")              \n",
    "print(f\"Transponovana matrica x.T=\\n{x.T}\\n\")  \n",
    "\n",
    "print(\"Vektor se ne transponuje\")\n",
    "v = np.array([1,2,3])\n",
    "print(v)    \n",
    "print(v.T) "
   ]
  },
  {
   "cell_type": "markdown",
   "id": "28e44d8c-1206-4851-b886-c383f9627122",
   "metadata": {},
   "source": [
    "Detaljnije o funkcijama za manipulaciju nizovima nalazi se na sledećem [linku](https://numpy.org/doc/stable/reference/routines.array-manipulation.html)."
   ]
  },
  {
   "cell_type": "markdown",
   "id": "7ebf4f42-88a3-485e-bdcc-f6537b699b0e",
   "metadata": {},
   "source": [
    "### 1. Zadatak\n",
    "\n",
    "Kreirati 4x4 matricu sa nasumičnim vrednostima i pronaći zbir svakog reda."
   ]
  },
  {
   "cell_type": "code",
   "execution_count": 22,
   "id": "7cb66a64-6890-46a5-b6de-d83d6a435dca",
   "metadata": {},
   "outputs": [
    {
     "name": "stdout",
     "output_type": "stream",
     "text": [
      "a [[7 4 4 1]\n",
      " [3 6 5 1]\n",
      " [6 1 6 9]\n",
      " [9 5 9 1]]\n",
      "[16 15 22 24]\n"
     ]
    }
   ],
   "source": [
    "a = np.random.randint(1, 10, (4, 4))\n",
    "print('a',a)\n",
    "row_sum = np.sum(a, axis=1)\n",
    "print(row_sum)"
   ]
  },
  {
   "cell_type": "markdown",
   "id": "1ca7cd55-1d95-4173-b6a6-e90eb43f0ae1",
   "metadata": {},
   "source": [
    "### 2. Zadatak\n",
    "\n",
    "Kreirati 5x5 matricu sa nasumičnim vrednostima i sortirati svaku kolonu rastuće."
   ]
  },
  {
   "cell_type": "code",
   "execution_count": 23,
   "id": "ee0c53bf-3fcf-42c1-beb8-92142efbcd99",
   "metadata": {},
   "outputs": [
    {
     "name": "stdout",
     "output_type": "stream",
     "text": [
      "[4 9 8 1 8]\n",
      "[1 5 8 8 5]\n",
      "[5 1 6 4 4]\n",
      "[4 1 7 7 3]\n",
      "[8 4 3 3 6]\n",
      "\n",
      "[1 1 3 1 3]\n",
      "[4 1 6 3 4]\n",
      "[4 4 7 4 5]\n",
      "[5 5 8 7 6]\n",
      "[8 9 8 8 8]\n"
     ]
    }
   ],
   "source": [
    "b = np.random.randint(1, 10, (5, 5))\n",
    "for i in range(5):\n",
    "    print(b[i])\n",
    "for i in range(b.shape[1]):\n",
    "    b[:, i].sort()\n",
    "print()\n",
    "for i in range(5):\n",
    "    print(b[i])"
   ]
  },
  {
   "cell_type": "markdown",
   "id": "a255020c-6d8a-41fd-bcea-9f604c8c77a8",
   "metadata": {},
   "source": [
    "### 3. Zadatak\n",
    "\n",
    "Kreirati 5x5 matricu sa nasumičnim vrednostima i zameniti minimalnu vrednost sa 0."
   ]
  },
  {
   "cell_type": "code",
   "execution_count": 50,
   "id": "a3886389-6f7f-416c-b189-39ac08d2da52",
   "metadata": {},
   "outputs": [
    {
     "name": "stdout",
     "output_type": "stream",
     "text": [
      "[[3 7 5 9 9]\n",
      " [8 8 7 9 2]\n",
      " [4 3 1 7 1]\n",
      " [1 4 4 5 3]\n",
      " [4 3 5 3 2]]\n",
      "2\n",
      "2\n",
      "[[3 7 5 9 9]\n",
      " [8 8 7 9 2]\n",
      " [4 3 0 7 1]\n",
      " [1 4 4 5 3]\n",
      " [4 3 5 3 2]]\n"
     ]
    }
   ],
   "source": [
    "b = np.random.randint(1, 10, (5, 5))\n",
    "print(b)\n",
    "index = np.unravel_index(np.argmin(b, axis=None), b.shape)\n",
    "print(index[0])\n",
    "print(index[1])\n",
    "b[index[0]][index[1]] = 0\n",
    "print(b)"
   ]
  },
  {
   "cell_type": "markdown",
   "id": "d6186c06-78b5-4724-af5f-f5f2fbdd2d0c",
   "metadata": {},
   "source": [
    "# Matplotlib \n",
    "\n",
    "Matplotlib je biblioteka za crtanje grafova. Da bismo koristili biblioteku mora da se import-uje iz `matplotlib.pyplot` modula."
   ]
  },
  {
   "cell_type": "code",
   "execution_count": 52,
   "id": "960ec9d3",
   "metadata": {},
   "outputs": [
    {
     "name": "stdout",
     "output_type": "stream",
     "text": [
      "Defaulting to user installation because normal site-packages is not writeable\n",
      "Collecting matplotlib\n",
      "  Obtaining dependency information for matplotlib from https://files.pythonhosted.org/packages/40/d9/c1784db9db0d484c8e5deeafbaac0d6ed66e165c6eb4a74fb43a5fa947d9/matplotlib-3.8.0-cp311-cp311-win_amd64.whl.metadata\n",
      "  Using cached matplotlib-3.8.0-cp311-cp311-win_amd64.whl.metadata (5.9 kB)\n",
      "Collecting contourpy>=1.0.1 (from matplotlib)\n",
      "  Obtaining dependency information for contourpy>=1.0.1 from https://files.pythonhosted.org/packages/e5/76/94bc17eb868f8c7397f8fdfdeae7661c1b9a35f3a7219da308596e8c252a/contourpy-1.1.1-cp311-cp311-win_amd64.whl.metadata\n",
      "  Using cached contourpy-1.1.1-cp311-cp311-win_amd64.whl.metadata (5.9 kB)\n",
      "Collecting cycler>=0.10 (from matplotlib)\n",
      "  Obtaining dependency information for cycler>=0.10 from https://files.pythonhosted.org/packages/e7/05/c19819d5e3d95294a6f5947fb9b9629efb316b96de511b418c53d245aae6/cycler-0.12.1-py3-none-any.whl.metadata\n",
      "  Downloading cycler-0.12.1-py3-none-any.whl.metadata (3.8 kB)\n",
      "Collecting fonttools>=4.22.0 (from matplotlib)\n",
      "  Obtaining dependency information for fonttools>=4.22.0 from https://files.pythonhosted.org/packages/ae/f6/724d2d236797ea7479a5a7ec8e69c2bee60cad70273cf25078810415ae2d/fonttools-4.43.1-cp311-cp311-win_amd64.whl.metadata\n",
      "  Downloading fonttools-4.43.1-cp311-cp311-win_amd64.whl.metadata (155 kB)\n",
      "     ---------------------------------------- 0.0/155.5 kB ? eta -:--:--\n",
      "     ------- ------------------------------- 30.7/155.5 kB 1.4 MB/s eta 0:00:01\n",
      "     -------------------------------------  153.6/155.5 kB 2.3 MB/s eta 0:00:01\n",
      "     -------------------------------------- 155.5/155.5 kB 2.3 MB/s eta 0:00:00\n",
      "Collecting kiwisolver>=1.0.1 (from matplotlib)\n",
      "  Obtaining dependency information for kiwisolver>=1.0.1 from https://files.pythonhosted.org/packages/1e/37/d3c2d4ba2719059a0f12730947bbe1ad5ee8bff89e8c35319dcb2c9ddb4c/kiwisolver-1.4.5-cp311-cp311-win_amd64.whl.metadata\n",
      "  Using cached kiwisolver-1.4.5-cp311-cp311-win_amd64.whl.metadata (6.5 kB)\n",
      "Requirement already satisfied: numpy<2,>=1.21 in c:\\users\\neboj\\appdata\\roaming\\python\\python311\\site-packages (from matplotlib) (1.26.1)\n",
      "Requirement already satisfied: packaging>=20.0 in c:\\users\\neboj\\appdata\\roaming\\python\\python311\\site-packages (from matplotlib) (23.2)\n",
      "Collecting pillow>=6.2.0 (from matplotlib)\n",
      "  Obtaining dependency information for pillow>=6.2.0 from https://files.pythonhosted.org/packages/b1/38/31def4109acd4db10672df6f806b175c0d21458f845ddc0890e43238ba7c/Pillow-10.1.0-cp311-cp311-win_amd64.whl.metadata\n",
      "  Downloading Pillow-10.1.0-cp311-cp311-win_amd64.whl.metadata (9.6 kB)\n",
      "Requirement already satisfied: pyparsing>=2.3.1 in c:\\users\\neboj\\appdata\\roaming\\python\\python311\\site-packages (from matplotlib) (3.1.1)\n",
      "Requirement already satisfied: python-dateutil>=2.7 in c:\\users\\neboj\\appdata\\roaming\\python\\python311\\site-packages (from matplotlib) (2.8.2)\n",
      "Requirement already satisfied: six>=1.5 in c:\\users\\neboj\\appdata\\roaming\\python\\python311\\site-packages (from python-dateutil>=2.7->matplotlib) (1.16.0)\n",
      "Using cached matplotlib-3.8.0-cp311-cp311-win_amd64.whl (7.6 MB)\n",
      "Using cached contourpy-1.1.1-cp311-cp311-win_amd64.whl (480 kB)\n",
      "Downloading cycler-0.12.1-py3-none-any.whl (8.3 kB)\n",
      "Downloading fonttools-4.43.1-cp311-cp311-win_amd64.whl (2.1 MB)\n",
      "   ---------------------------------------- 0.0/2.1 MB ? eta -:--:--\n",
      "   ------- -------------------------------- 0.4/2.1 MB 12.6 MB/s eta 0:00:01\n",
      "   -------------- ------------------------- 0.8/2.1 MB 9.8 MB/s eta 0:00:01\n",
      "   ------------------------- -------------- 1.4/2.1 MB 12.6 MB/s eta 0:00:01\n",
      "   ----------------------------------- ---- 1.9/2.1 MB 12.3 MB/s eta 0:00:01\n",
      "   ---------------------------------------- 2.1/2.1 MB 12.4 MB/s eta 0:00:00\n",
      "Using cached kiwisolver-1.4.5-cp311-cp311-win_amd64.whl (56 kB)\n",
      "Downloading Pillow-10.1.0-cp311-cp311-win_amd64.whl (2.6 MB)\n",
      "   ---------------------------------------- 0.0/2.6 MB ? eta -:--:--\n",
      "   ------------ --------------------------- 0.8/2.6 MB 25.1 MB/s eta 0:00:01\n",
      "   ----------------------- ---------------- 1.6/2.6 MB 19.8 MB/s eta 0:00:01\n",
      "   ---------------------------------------  2.6/2.6 MB 23.6 MB/s eta 0:00:01\n",
      "   ---------------------------------------- 2.6/2.6 MB 20.8 MB/s eta 0:00:00\n",
      "Installing collected packages: pillow, kiwisolver, fonttools, cycler, contourpy, matplotlib\n",
      "Successfully installed contourpy-1.1.1 cycler-0.12.1 fonttools-4.43.1 kiwisolver-1.4.5 matplotlib-3.8.0 pillow-10.1.0\n",
      "Note: you may need to restart the kernel to use updated packages.\n"
     ]
    },
    {
     "name": "stderr",
     "output_type": "stream",
     "text": [
      "\n",
      "[notice] A new release of pip is available: 23.2.1 -> 23.3\n",
      "[notice] To update, run: python.exe -m pip install --upgrade pip\n"
     ]
    }
   ],
   "source": [
    "pip install matplotlib"
   ]
  },
  {
   "cell_type": "code",
   "execution_count": 53,
   "id": "5e9566b6-2722-4ea7-9be9-284ec52b353d",
   "metadata": {},
   "outputs": [],
   "source": [
    "import matplotlib.pyplot as plt"
   ]
  },
  {
   "cell_type": "markdown",
   "id": "d3d59adf-1a1d-4958-9245-d14f91ce3a89",
   "metadata": {},
   "source": [
    "Da bi se slika prikazala u jupyter notebook-u koristimo komandu: "
   ]
  },
  {
   "cell_type": "code",
   "execution_count": null,
   "id": "560678fc-bcd1-412b-9cfd-f8dd4055db74",
   "metadata": {},
   "outputs": [],
   "source": [
    "%matplotlib inline"
   ]
  },
  {
   "cell_type": "markdown",
   "id": "920b9b3f-807f-4543-b309-0abdc6dc618e",
   "metadata": {},
   "source": [
    "# Crtanje grafa\n",
    "\n",
    "Funkcija koja će se najviše koristiti je ``plot``. Ova funkcija dozvoljava crtanje 2D podataka (x, y koordinate). \n",
    "\n",
    "Sledeći primer je crtanja rezultata grafa ``ReLU`` aktivacione funkcije."
   ]
  },
  {
   "cell_type": "code",
   "execution_count": 54,
   "id": "511c9655-37d9-46d7-b69f-fe061c8b7b15",
   "metadata": {},
   "outputs": [
    {
     "data": {
      "image/png": "[encoded data removed]",
      "text/plain": [
       "<Figure size 640x480 with 1 Axes>"
      ]
     },
     "metadata": {},
     "output_type": "display_data"
    }
   ],
   "source": [
    "x = np.linspace(-10, 10)\n",
    "y = np.maximum(0, x)\n",
    "#y = [max(0, val) for val in x]\n",
    "plt.plot(x, y)\n",
    "plt.show()"
   ]
  },
  {
   "cell_type": "markdown",
   "id": "48339eee-6b71-45fa-8a7e-0483f6c19265",
   "metadata": {},
   "source": [
    "Naredni primer prikazuje kombinaciju rezultujućih grafova ``ReLU`` i ``Leaky ReLU`` aktivacionih funckija."
   ]
  },
  {
   "cell_type": "code",
   "execution_count": 55,
   "id": "4f4c05db-2c66-4a31-a576-85465645dc7c",
   "metadata": {},
   "outputs": [
    {
     "data": {
      "image/png": "[encoded data removed]",
      "text/plain": [
       "<Figure size 640x480 with 1 Axes>"
      ]
     },
     "metadata": {},
     "output_type": "display_data"
    }
   ],
   "source": [
    "x = np.linspace(-50, 50)\n",
    "\n",
    "y_relu = np.maximum(0, x)\n",
    "y_leaky_relu = np.where(x > 0, x, 0.01 * x)\n",
    "\n",
    "plt.plot(x, y_relu)\n",
    "plt.plot(x, y_leaky_relu)\n",
    "\n",
    "plt.xlabel('x axis label')\n",
    "plt.ylabel('y axis label')\n",
    "plt.title('Activation Functions')\n",
    "plt.legend(['ReLU', 'Leaky ReLU'])\n",
    "\n",
    "plt.show()"
   ]
  },
  {
   "cell_type": "markdown",
   "id": "9aada068-2689-40a2-8e55-6cf718f99391",
   "metadata": {},
   "source": [
    "Naredni primer prikazuje kombinaciju rezultujućih grafova ``ReLU`` i ``Sigmoid`` aktivacionih funckija."
   ]
  },
  {
   "cell_type": "code",
   "execution_count": 61,
   "id": "e20bcfbf-99da-4d32-8efa-428790922062",
   "metadata": {},
   "outputs": [
    {
     "data": {
      "image/png": "[encoded data removed]",
      "text/plain": [
       "<Figure size 640x480 with 3 Axes>"
      ]
     },
     "metadata": {},
     "output_type": "display_data"
    }
   ],
   "source": [
    "def sigmoid(x):\n",
    "    return 1 / (1 + np.exp(-x))\n",
    "\n",
    "x = np.linspace(-5, 5)\n",
    "\n",
    "y_relu = np.maximum(0, x)\n",
    "y_sigmoid = [sigmoid(value) for value in x]\n",
    "\n",
    "plt.subplot(2, 2, 1)\n",
    "plt.plot(x, y_relu)\n",
    "plt.title('ReLU')\n",
    "plt.grid(True)\n",
    "\n",
    "plt.subplot(2, 2, 2)\n",
    "plt.plot(x, y_sigmoid)\n",
    "plt.title('Sigmoid')\n",
    "plt.grid(True)\n",
    "y_lin = x\n",
    "plt.subplot(2, 2, 3)\n",
    "plt.plot(x, y_lin)\n",
    "\n",
    "plt.show()"
   ]
  },
  {
   "cell_type": "markdown",
   "id": "1b1a55ab-ca48-4f49-9204-0385d73b6aa0",
   "metadata": {},
   "source": [
    "Detaljnije možete pročitati dokumentaciju biblioteka na sledećem [linku](https://matplotlib.org/2.0.2/api/pyplot_api.html).\n",
    "\n",
    "### 4. Zadatak\n",
    "\n",
    "Implementirati sledeće aktivacione funckcije:\n",
    "1. Linearna $$f(x) = x$$\n",
    "3. Tanh $$ f(x) = tanh(x) = \\frac{e^{x}-e^{-x}}{e^{x}+e^{-x}} $$\n",
    "\n",
    "Kombinovati prethodne ReLU, Leaky ReLU, Sigmoid sa 1. i 2. na jednom grafu. Koristiti ``subplot``."
   ]
  },
  {
   "cell_type": "code",
   "execution_count": 63,
   "id": "aa4d0ace",
   "metadata": {},
   "outputs": [
    {
     "data": {
      "image/png": "[encoded data removed]",
      "text/plain": [
       "<Figure size 640x480 with 1 Axes>"
      ]
     },
     "metadata": {},
     "output_type": "display_data"
    }
   ],
   "source": [
    "x = np.linspace(-10, 10)\n",
    "y = x\n",
    "plt.plot(x, y)\n",
    "plt.show()"
   ]
  },
  {
   "cell_type": "code",
   "execution_count": 59,
   "id": "dac89bbf",
   "metadata": {},
   "outputs": [],
   "source": [
    "def tanh(x):\n",
    "    above = np.exp(x) - np.exp(-x)\n",
    "    below = np.exp(x) + np.exp(-x)\n",
    "    return above/below"
   ]
  },
  {
   "cell_type": "code",
   "execution_count": 64,
   "id": "0a4e4c06",
   "metadata": {},
   "outputs": [
    {
     "data": {
      "image/png": "[encoded data removed]",
      "text/plain": [
       "<Figure size 640x480 with 1 Axes>"
      ]
     },
     "metadata": {},
     "output_type": "display_data"
    }
   ],
   "source": [
    "y_tanh = tanh(x)\n",
    "plt.plot(x, y)\n",
    "plt.plot(x, y_tanh)\n",
    "plt.show()"
   ]
  }
 ],
 "metadata": {
  "kernelspec": {
   "display_name": "Python 3 (ipykernel)",
   "language": "python",
   "name": "python3"
  },
  "language_info": {
   "codemirror_mode": {
    "name": "ipython",
    "version": 3
   },
   "file_extension": ".py",
   "mimetype": "text/x-python",
   "name": "python",
   "nbconvert_exporter": "python",
   "pygments_lexer": "ipython3",
   "version": "3.11.5"
  }
 },
 "nbformat": 4,
 "nbformat_minor": 5
}
